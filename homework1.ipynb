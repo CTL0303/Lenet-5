{
  "cells": [
    {
      "cell_type": "markdown",
      "metadata": {
        "id": "zTvIwDlYvBzC"
      },
      "source": [
        "# HW1: LeNet-5 with Post-training Quantization and Quantization Aware Training\n",
        "[LeNet](http://yann.lecun.com/exdb/publis/pdf/lecun-01a.pdf) is considered to be the first ConvNet.\n",
        "We are going to implement a neural architecture similar to LeNet and train it with [MNIST](https://en.wikipedia.org/wiki/MNIST_database) dataset.\n",
        "\n",
        "Before we start, you may check this [Tensorspace-LeNet](https://tensorspace.org/html/playground/lenet.html) to play with LeNet and get familiar with this neural architecture.\n",
        "\n",
        "![image](https://production-media.paperswithcode.com/methods/LeNet_Original_Image_48T74Lc.jpg)\n",
        "Ref.: LeCun et al., Gradient-Based Learning Applied to Document Recognition, 1998a"
      ]
    },
    {
      "attachments": {},
      "cell_type": "markdown",
      "metadata": {
        "id": "EQy5UdrvnUkJ"
      },
      "source": [
        "<font color='red'>Name: 劉俊廷 Student ID: 111501502 </font> "
      ]
    },
    {
      "cell_type": "code",
      "execution_count": null,
      "metadata": {
        "colab": {
          "base_uri": "https://localhost:8080/"
        },
        "id": "YC-24zkTBCLS",
        "outputId": "8c25e480-c3be-4877-8180-13f0ce21434c"
      },
      "outputs": [
        {
          "name": "stdout",
          "output_type": "stream",
          "text": [
            "Looking in indexes: https://pypi.org/simple, https://us-python.pkg.dev/colab-wheels/public/simple/\n",
            "Collecting torchinfo\n",
            "  Downloading torchinfo-1.7.2-py3-none-any.whl (22 kB)\n",
            "Installing collected packages: torchinfo\n",
            "Successfully installed torchinfo-1.7.2\n"
          ]
        }
      ],
      "source": [
        "#!pip install torchinfo"
      ]
    },
    {
      "cell_type": "markdown",
      "metadata": {
        "id": "aMbQ1FFgQs0K"
      },
      "source": [
        "## 1. Initial Setup\n",
        "\n",
        "We are goint to implement and train this nerual network with PyTorch \n",
        "If you are not familer with PyTorch, check [official tutorail](https://pytorch.org/tutorials/beginner/basics/intro.html)\n",
        "\n",
        "**Reminder:** set the runtime type to \"GPU\", or your code will run much more slowly on a CPU."
      ]
    },
    {
      "cell_type": "code",
      "execution_count": null,
      "metadata": {
        "colab": {
          "base_uri": "https://localhost:8080/"
        },
        "id": "hbiiMcdNJI--",
        "outputId": "9bcbb67e-85bd-4b1c-d903-eca4ecd5f961"
      },
      "outputs": [
        {
          "name": "stdout",
          "output_type": "stream",
          "text": [
            "cuda:0\n"
          ]
        }
      ],
      "source": [
        "import torch\n",
        "import torchvision\n",
        "from torch import nn\n",
        "from torchvision import transforms\n",
        "from torch import optim\n",
        "from torch.utils.data import DataLoader\n",
        "import numpy as np\n",
        "import random\n",
        "SEED = 0\n",
        "random.seed(SEED)\n",
        "np.random.seed(SEED)\n",
        "torch.manual_seed(SEED)\n",
        "torch.cuda.manual_seed_all(SEED)\n",
        "torch.backends.cudnn.deterministic = True\n",
        "torch.backends.cudnn.benchmark = False\n",
        "device = torch.device(\"cuda:0\" if torch.cuda.is_available() else \"cpu\")\n",
        "#device = torch.device(\"cuda:0\" if torch.cpu.is_available() else \"cpu\")\n",
        "print(device)"
      ]
    },
    {
      "cell_type": "markdown",
      "metadata": {
        "id": "nCaMDWYArEXO"
      },
      "source": [
        "### 1.1 Load dataset\n",
        "Load training and test data from the MNIST dataset."
      ]
    },
    {
      "cell_type": "code",
      "execution_count": null,
      "metadata": {
        "colab": {
          "base_uri": "https://localhost:8080/",
          "height": 437,
          "referenced_widgets": [
            "2ed8a175f26c496e9981c83efcc09e31",
            "9e4b7a912487416b918e8b659df936d4",
            "ec35abbff866470a8a776b922f058110",
            "c1369267e55b4969af871be9cc0d4f6f",
            "52eae86cef4941719e79bc5458e02c0f",
            "8c0c97cb062d4127814af35e255ed058",
            "571736b3ce1849998e6612cf8adf21b7",
            "954d0e870a31461d81acc24b1c08d17a",
            "e942f0a988a245fa9b21fae6983d7c38",
            "105696d136034243ad58f9c9d05570aa",
            "057113ef050f4defbb5752f8d66eaebb",
            "070813d7d7cb4ad49ad5bc5d816993f5",
            "e2601786f9fc42dead127da726667fae",
            "2ef62e192afb42f5bbe308c7a8d1eaaf",
            "65db77dca8124395bfa805e3409eaed3",
            "fe63d140bff547ef93864bd712634e69",
            "b0216d2285814d25a384aa3075b92a9e",
            "befa09b613924b51a6fa28537954502f",
            "7fbfa04d79ae4222b6b577d5747a3d12",
            "c73174d798a24e2ead07d2fa81e1f636",
            "46da85b6228646a48ae1fe90e0136ed2",
            "2640da6db1044caf8bb53e2ce3192af9",
            "bf25adb82ea54b67afe26b5ecc5bc0dd",
            "9e5081fcf6e44e95bc2963d25b52cd1a",
            "7a1d0aca506343638ee5361be3f62d99",
            "ef1b36be0f654accad71797186043cf4",
            "964d7fd57f9a4353bc7802a9865c93d6",
            "e1e502d411a54033bd01dec7a9961cf4",
            "fdc4bb05bd7944dda0cc91d1a44c93a4",
            "f8d9cbe445f746bdb22c96ad9b441118",
            "c3563e566ab34e31a68dccfc3760d7b8",
            "6fa38882cd794aaf9455a82f938a079b",
            "ee32bc62d7b64124a1e98748b34bab7f",
            "5fa3afd57bb24a6f8e0411f626d07b37",
            "286cb03b88ef44e7b23adb47b8561cb6",
            "ba729bfc81bc4e64b3ff463c77507da4",
            "01f8d92d260941699dc3fc2febbac395",
            "c408b22ecd984151ae5963d13e09a227",
            "fd9f7f5f65ae41829a19873af468b360",
            "dccdbfa247984559b244db981d6f5975",
            "dfad079ca04b42c7b5f005e014fdd9b7",
            "4c3207891a244e6492319ae3f47b3285",
            "59b8fc3b3e0b4a9c951823abf4935406",
            "e201ea0593874bfd9951679a06d19e41"
          ]
        },
        "id": "_5UuOjjrnogR",
        "outputId": "3a8ca04d-5428-467e-e4f8-2b426d662efc"
      },
      "outputs": [
        {
          "name": "stdout",
          "output_type": "stream",
          "text": [
            "Downloading http://yann.lecun.com/exdb/mnist/train-images-idx3-ubyte.gz\n",
            "Downloading http://yann.lecun.com/exdb/mnist/train-images-idx3-ubyte.gz to ./data/MNIST/raw/train-images-idx3-ubyte.gz\n"
          ]
        },
        {
          "data": {
            "application/vnd.jupyter.widget-view+json": {
              "model_id": "2ed8a175f26c496e9981c83efcc09e31",
              "version_major": 2,
              "version_minor": 0
            },
            "text/plain": [
              "  0%|          | 0/9912422 [00:00<?, ?it/s]"
            ]
          },
          "metadata": {},
          "output_type": "display_data"
        },
        {
          "name": "stdout",
          "output_type": "stream",
          "text": [
            "Extracting ./data/MNIST/raw/train-images-idx3-ubyte.gz to ./data/MNIST/raw\n",
            "\n",
            "Downloading http://yann.lecun.com/exdb/mnist/train-labels-idx1-ubyte.gz\n",
            "Downloading http://yann.lecun.com/exdb/mnist/train-labels-idx1-ubyte.gz to ./data/MNIST/raw/train-labels-idx1-ubyte.gz\n"
          ]
        },
        {
          "data": {
            "application/vnd.jupyter.widget-view+json": {
              "model_id": "070813d7d7cb4ad49ad5bc5d816993f5",
              "version_major": 2,
              "version_minor": 0
            },
            "text/plain": [
              "  0%|          | 0/28881 [00:00<?, ?it/s]"
            ]
          },
          "metadata": {},
          "output_type": "display_data"
        },
        {
          "name": "stdout",
          "output_type": "stream",
          "text": [
            "Extracting ./data/MNIST/raw/train-labels-idx1-ubyte.gz to ./data/MNIST/raw\n",
            "\n",
            "Downloading http://yann.lecun.com/exdb/mnist/t10k-images-idx3-ubyte.gz\n",
            "Downloading http://yann.lecun.com/exdb/mnist/t10k-images-idx3-ubyte.gz to ./data/MNIST/raw/t10k-images-idx3-ubyte.gz\n"
          ]
        },
        {
          "data": {
            "application/vnd.jupyter.widget-view+json": {
              "model_id": "bf25adb82ea54b67afe26b5ecc5bc0dd",
              "version_major": 2,
              "version_minor": 0
            },
            "text/plain": [
              "  0%|          | 0/1648877 [00:00<?, ?it/s]"
            ]
          },
          "metadata": {},
          "output_type": "display_data"
        },
        {
          "name": "stdout",
          "output_type": "stream",
          "text": [
            "Extracting ./data/MNIST/raw/t10k-images-idx3-ubyte.gz to ./data/MNIST/raw\n",
            "\n",
            "Downloading http://yann.lecun.com/exdb/mnist/t10k-labels-idx1-ubyte.gz\n",
            "Downloading http://yann.lecun.com/exdb/mnist/t10k-labels-idx1-ubyte.gz to ./data/MNIST/raw/t10k-labels-idx1-ubyte.gz\n"
          ]
        },
        {
          "data": {
            "application/vnd.jupyter.widget-view+json": {
              "model_id": "5fa3afd57bb24a6f8e0411f626d07b37",
              "version_major": 2,
              "version_minor": 0
            },
            "text/plain": [
              "  0%|          | 0/4542 [00:00<?, ?it/s]"
            ]
          },
          "metadata": {},
          "output_type": "display_data"
        },
        {
          "name": "stdout",
          "output_type": "stream",
          "text": [
            "Extracting ./data/MNIST/raw/t10k-labels-idx1-ubyte.gz to ./data/MNIST/raw\n",
            "\n"
          ]
        }
      ],
      "source": [
        "def seed_worker(worker_id):\n",
        "    worker_seed = torch.initial_seed() % 2**32\n",
        "    np.random.seed(worker_seed)\n",
        "    random.seed(worker_seed)\n",
        "\n",
        "g = torch.Generator()\n",
        "g.manual_seed(0)\n",
        "\n",
        "transform = transforms.Compose(\n",
        "    [\n",
        "     transforms.Resize((32, 32)),\n",
        "     transforms.ToTensor(),\n",
        "     transforms.Normalize((0.5,), (0.5,))\n",
        "    ])\n",
        "\n",
        "trainset = torchvision.datasets.MNIST(root='./data', train=True,\n",
        "                                        download=True, transform=transform)\n",
        "trainloader = torch.utils.data.DataLoader(trainset, batch_size=4,\n",
        "                                          shuffle=True, num_workers=2,\n",
        "                                          worker_init_fn=seed_worker, generator=g,)\n",
        "\n",
        "testset = torchvision.datasets.MNIST(root='./data', train=False,\n",
        "                                       download=True, transform=transform)\n",
        "testloader = torch.utils.data.DataLoader(testset, batch_size=8,\n",
        "                                         shuffle=False, num_workers=2,\n",
        "                                         worker_init_fn=seed_worker, generator=g,)"
      ]
    },
    {
      "cell_type": "markdown",
      "metadata": {
        "id": "l62CkyIwtSOv"
      },
      "source": [
        "### 1.2 Define the Neural Network \n",
        "Define a simple CNN that classifies MNIST images."
      ]
    },
    {
      "cell_type": "code",
      "execution_count": null,
      "metadata": {
        "id": "9fL3F-7Rntog"
      },
      "outputs": [],
      "source": [
        "from collections import OrderedDict\n",
        "class Net(nn.Module):\n",
        "    def __init__(self):\n",
        "        super(Net, self).__init__()\n",
        "\n",
        "        self.conv1 = nn.Sequential(OrderedDict([\n",
        "            ('conv', nn.Conv2d(1, 6, 5, bias=False)),\n",
        "            ('relu', nn.ReLU()),\n",
        "        ]))\n",
        "        \n",
        "        self.maxpool2 = nn.Sequential(OrderedDict([\n",
        "            ('pool', nn.MaxPool2d(kernel_size=(2, 2), stride=2))\n",
        "        ]))\n",
        "        \n",
        "        self.conv3 = nn.Sequential(OrderedDict([\n",
        "            ('conv', nn.Conv2d(6, 16, 5, bias=False)),\n",
        "            ('relu', nn.ReLU())\n",
        "        ]))\n",
        "        \n",
        "        self.maxpool4 = nn.Sequential(OrderedDict([\n",
        "            ('pool', nn.MaxPool2d(kernel_size=(2, 2), stride=2))\n",
        "        ]))\n",
        "        \n",
        "        self.conv5 = nn.Sequential(OrderedDict([\n",
        "            ('conv', nn.Conv2d(16, 120, 5, bias=False)),\n",
        "            ('relu', nn.ReLU())\n",
        "        ]))\n",
        "        \n",
        "        self.fc6 = nn.Sequential(OrderedDict([\n",
        "            ('fc', nn.Linear(120, 84, bias=False)),\n",
        "            ('relu', nn.ReLU())\n",
        "        ]))\n",
        "        \n",
        "        self.output = nn.Sequential(OrderedDict([\n",
        "            ('fc', nn.Linear(84, 10, bias=False)),\n",
        "        ]))\n",
        "        \n",
        "\n",
        "    def forward(self, x: torch.Tensor) -> torch.Tensor:\n",
        "        x = self.conv1(x)\n",
        "        x = self.maxpool2(x)\n",
        "        x = self.conv3(x)\n",
        "        x = self.maxpool4(x)\n",
        "        x = self.conv5(x)\n",
        "        x = torch.flatten(x, 1)\n",
        "        x = self.fc6(x)\n",
        "        x = self.output(x)\n",
        "        return x\n",
        "\n",
        "NET = Net().to(device)"
      ]
    },
    {
      "cell_type": "markdown",
      "metadata": {
        "id": "TyOAi8OFQs0N"
      },
      "source": [
        "### 1.3 Question: Profile the Neural Architecture by TorchInfo\n",
        "Torchinfo provides information complementary to what is provided by print(your_model) in PyTorch, similar to Tensorflow's model.summary() API to view the visualization of the model, which is helpful while debugging your network. Check this [link](https://github.com/TylerYep/torchinfo#how-to-use) about how to use TorchInfo by `summary()` and fill in the TODO in the following cell. You should get the result similar to the table below:\n",
        "\n",
        "```\n",
        "==========================================================================================\n",
        "Layer (type:depth-idx)                   Output Shape              Param #\n",
        "==========================================================================================\n",
        "LeNet                                    --                        --\n",
        "...\n",
        "...\n",
        "==========================================================================================\n",
        "Total params: ...\n",
        "...\n",
        "Estimated Total Size (MB): ...\n",
        "==========================================================================================\n",
        "```\n",
        "\n",
        "\n",
        "Ref.: https://github.com/TylerYep/torchinfo\n",
        "\n",
        "Please read *B. LeNet-5* in the [original paper](http://yann.lecun.com/exdb/publis/pdf/lecun-01a.pdf) and answer the following questions.\n",
        "1. What is the type (convolution, pooling, fully-connected layer, etc.), input activation size, output activation size, and activation function (if any) of each layer?\n",
        "2. What is the difference part between this neural architecture and the lenet-5 in the [original paper](http://yann.lecun.com/exdb/publis/pdf/lecun-01a.pdf)?\n",
        "3. Could we replace the 3rd conv, the conv in conv5, with a fully connected layer?"
      ]
    },
    {
      "attachments": {},
      "cell_type": "markdown",
      "metadata": {
        "id": "AL8p7FqslIq6"
      },
      "source": [
        "### 1.3 Answers\n",
        "<font color='red'>Write your answers here.</font>\n",
        "1. C1 layer: convolution, <br />\n",
        "Input activation size (channel, width, height) = (1, 32, 32)  \n",
        "Output activation size (channel, width, height) = (6, 28, 28)  \n",
        "Activation function = relu <br />\n",
        "S2 layer：Subsampling, <br />\n",
        "Input activation size (channel, width, height) = (6, 28, 28)  \n",
        "Output activation size (channel, width, height) = (6, 14, 14)  \n",
        "Activation function = none <br />\n",
        "C3 layer：convolution,<br /> \n",
        "Input activation size (channel, width, height) = (6, 14, 14)  \n",
        "Output activation size (channel, width, height) = (16, 10, 10)  \n",
        "Activation function = relu <br />\n",
        "S4 layer：Subsampling, <br />\n",
        "Input activation size (channel, width, height) = (16, 10, 10) <br />\n",
        "Output activation size (channel, width, height) = (16, 5, 5)  \n",
        "Activation function = none <br />\n",
        "C5 layer：convolution, <br />\n",
        "Input activation size (channel, width, height) = (16, 5, 5)  \n",
        "Output activation size (channel, width, height) = (120, 1, 1)  \n",
        "Activation function = relu <br />\n",
        "F6 layer：fully-connected, <br />\n",
        "Input activation size (channel, width, height)) = (120, 1, 1)  \n",
        "Output activation size (output) = (84)  \n",
        "Activation function = relu<br /> \n",
        "Output layer：Guassuan Connection, <br />\n",
        "Input activation size (output) = (84,1,1)  \n",
        "Output activation size (output) = (10,1,1)  \n",
        "Activation function = linear <br />\n",
        "                                                     \n",
        "2. The architecture of this homework replaced the \"subsampling layers\" in LeNet-5 with \"maxpooling layers\", and the \"activation function\" in the homework was replaced with a \"ReLu function\".\n",
        "3. No. If the LeNet-5 input size become bigger and fix others，the feature map size will bigger than 1*1."
      ]
    },
    {
      "cell_type": "code",
      "execution_count": null,
      "metadata": {
        "colab": {
          "base_uri": "https://localhost:8080/"
        },
        "id": "n50e9PASQs0N",
        "outputId": "8590e88e-15b2-4eb3-bad0-9830e7f39089"
      },
      "outputs": [
        {
          "data": {
            "text/plain": [
              "==========================================================================================\n",
              "Layer (type:depth-idx)                   Output Shape              Param #\n",
              "==========================================================================================\n",
              "Net                                      [4, 10]                   --\n",
              "├─Sequential: 1-1                        [4, 6, 28, 28]            --\n",
              "│    └─Conv2d: 2-1                       [4, 6, 28, 28]            150\n",
              "│    └─ReLU: 2-2                         [4, 6, 28, 28]            --\n",
              "├─Sequential: 1-2                        [4, 6, 14, 14]            --\n",
              "│    └─MaxPool2d: 2-3                    [4, 6, 14, 14]            --\n",
              "├─Sequential: 1-3                        [4, 16, 10, 10]           --\n",
              "│    └─Conv2d: 2-4                       [4, 16, 10, 10]           2,400\n",
              "│    └─ReLU: 2-5                         [4, 16, 10, 10]           --\n",
              "├─Sequential: 1-4                        [4, 16, 5, 5]             --\n",
              "│    └─MaxPool2d: 2-6                    [4, 16, 5, 5]             --\n",
              "├─Sequential: 1-5                        [4, 120, 1, 1]            --\n",
              "│    └─Conv2d: 2-7                       [4, 120, 1, 1]            48,000\n",
              "│    └─ReLU: 2-8                         [4, 120, 1, 1]            --\n",
              "├─Sequential: 1-6                        [4, 84]                   --\n",
              "│    └─Linear: 2-9                       [4, 84]                   10,080\n",
              "│    └─ReLU: 2-10                        [4, 84]                   --\n",
              "├─Sequential: 1-7                        [4, 10]                   --\n",
              "│    └─Linear: 2-11                      [4, 10]                   840\n",
              "==========================================================================================\n",
              "Total params: 61,470\n",
              "Trainable params: 61,470\n",
              "Non-trainable params: 0\n",
              "Total mult-adds (M): 1.67\n",
              "==========================================================================================\n",
              "Input size (MB): 0.02\n",
              "Forward/backward pass size (MB): 0.21\n",
              "Params size (MB): 0.25\n",
              "Estimated Total Size (MB): 0.47\n",
              "=========================================================================================="
            ]
          },
          "execution_count": 6,
          "metadata": {},
          "output_type": "execute_result"
        }
      ],
      "source": [
        "from torchinfo import summary\n",
        "# TODO\n",
        "batch_size = 4\n",
        "summary(NET, input_size=(4,1,32,32), verbose=0)\n",
        "\n"
      ]
    },
    {
      "cell_type": "markdown",
      "metadata": {
        "id": "Nijieuxptag6"
      },
      "source": [
        "### 1.4 Train and Test the Neural Network\n",
        "Train this CNN on the training dataset (this may take a few moments).\n",
        "* Check how to save and load the model\n",
        "    * https://pytorch.org/tutorials/beginner/saving_loading_models.html\n",
        "    * Save:\n",
        "        ```\n",
        "        torch.save(model.state_dict(), PATH)\n",
        "        ```\n",
        "    * Load:\n",
        "        ```\n",
        "        model = TheModelClass(*args, **kwargs)\n",
        "        model.load_state_dict(torch.load(PATH))\n",
        "        model.eval()\n",
        "        ```\n",
        "* After training the model, we will save it as `lenet.pt`.\n",
        "* You should comment out `train(NET, trainloader, 2)` and uncomment `NET.load_state_dict(torch.load('lenet.pt'))` before submitting your homework.\n",
        "    * Also, reloading the model from `lenet.pt` can save your time if there is something wrong and you need to restart and run all."
      ]
    },
    {
      "cell_type": "code",
      "execution_count": null,
      "metadata": {
        "id": "CzK6ohj5oNCT"
      },
      "outputs": [],
      "source": [
        "def train(model: nn.Module, dataloader: DataLoader, num_epoch):\n",
        "    \n",
        "    criterion = nn.CrossEntropyLoss()\n",
        "    optimizer = optim.Adam(model.parameters(), lr=0.001)\n",
        "\n",
        "    for epoch in range(num_epoch):  # loop over the dataset multiple times\n",
        "\n",
        "        running_loss = 0.0\n",
        "        for i, data in enumerate(dataloader):\n",
        "            \n",
        "            inputs, labels = data[0].to(device), data[1].to(device)\n",
        "            optimizer.zero_grad()\n",
        "            outputs = model(inputs)\n",
        "            loss = criterion(outputs, labels)\n",
        "            loss.backward()\n",
        "            optimizer.step()\n",
        "\n",
        "            # print statistics\n",
        "            running_loss += loss.item()\n",
        "            if i % 2000 == 1999:    # print every 2000 mini-batches\n",
        "                print('[%d, %5d] loss: %.3f' %\n",
        "                    (epoch + 1, i + 1, running_loss / 2000))\n",
        "                running_loss = 0.0\n",
        "        print(test(model, testloader, None))\n",
        "    print('Finished Training')\n",
        "    \n",
        "def test(model: nn.Module, dataloader: DataLoader, max_samples=None, device=device) -> float:\n",
        "    correct = 0\n",
        "    total = 0\n",
        "    n_inferences = 0\n",
        "\n",
        "    with torch.no_grad():\n",
        "        for data in dataloader:\n",
        "            \n",
        "            inputs, labels = data[0].to(device), data[1].to(device)\n",
        "\n",
        "            outputs = model(inputs)\n",
        "            _, predicted = torch.max(outputs.data, 1)\n",
        "            total += labels.size(0)\n",
        "            correct += (predicted == labels).sum().item()\n",
        "\n",
        "            if max_samples:\n",
        "                n_inferences += inputs.shape[0]\n",
        "                if n_inferences > max_samples:\n",
        "                    break\n",
        "    \n",
        "    return 100 * correct / total"
      ]
    },
    {
      "cell_type": "code",
      "execution_count": null,
      "metadata": {
        "colab": {
          "base_uri": "https://localhost:8080/"
        },
        "id": "LIeiyuPvQs0O",
        "outputId": "011e910f-dac0-440a-c4b1-aa1f2caaad18"
      },
      "outputs": [
        {
          "name": "stdout",
          "output_type": "stream",
          "text": [
            "[1,  2000] loss: 0.060\n",
            "[1,  4000] loss: 0.062\n",
            "[1,  6000] loss: 0.065\n",
            "[1,  8000] loss: 0.054\n",
            "[1, 10000] loss: 0.058\n",
            "[1, 12000] loss: 0.053\n",
            "[1, 14000] loss: 0.061\n",
            "97.99\n",
            "[2,  2000] loss: 0.041\n",
            "[2,  4000] loss: 0.046\n",
            "[2,  6000] loss: 0.054\n",
            "[2,  8000] loss: 0.044\n",
            "[2, 10000] loss: 0.057\n",
            "[2, 12000] loss: 0.056\n",
            "[2, 14000] loss: 0.046\n",
            "98.69\n",
            "Finished Training\n",
            "Accuracy of the network on the test images: 98.69%\n"
          ]
        }
      ],
      "source": [
        "#train(NET, trainloader, 2)\n",
        "# NET.load_state_dict(torch.load('lenet.pt')) 原本ta就註解掉了\n",
        "score = test(NET, testloader, None)\n",
        "print('Accuracy of the network on the test images: {}%'.format(score))\n",
        "\n",
        "torch.save(NET.state_dict(), 'lenet.pt')"
      ]
    },
    {
      "cell_type": "code",
      "execution_count": null,
      "metadata": {
        "id": "ZVWbC5YWT-MU"
      },
      "outputs": [],
      "source": [
        "from copy import deepcopy\n",
        "\n",
        "# A convenience function which we use to copy CNNs\n",
        "def copy_model(model: nn.Module) -> nn.Module:\n",
        "    result = deepcopy(model)\n",
        "\n",
        "    # Copy over the extra metadata we've collected which copy.deepcopy doesn't capture\n",
        "    if hasattr(model, 'input_activations'):\n",
        "        result.input_activations = deepcopy(model.input_activations)\n",
        "\n",
        "    for result_layer, original_layer in zip(result.modules(), model.modules()):\n",
        "        if isinstance(result_layer, (nn.Conv2d, nn.Linear)):\n",
        "            if hasattr(original_layer.weight, 'scale'):\n",
        "                result_layer.weight.scale = deepcopy(original_layer.weight.scale)\n",
        "            \n",
        "        if hasattr(original_layer, 'inAct'):\n",
        "            result_layer.inAct = deepcopy(original_layer.inAct)\n",
        "        if hasattr(original_layer, 'outAct'):\n",
        "            result_layer.outAct = deepcopy(original_layer.outAct)\n",
        "        if hasattr(original_layer, 'output_scale'):\n",
        "            result_layer.output_scale = deepcopy(original_layer.output_scale)\n",
        "\n",
        "    return result"
      ]
    },
    {
      "cell_type": "markdown",
      "metadata": {
        "id": "SQZoEjBSveV8"
      },
      "source": [
        "## 2. Post-training Quantization\n",
        "### 2.1 Question: Visualize Weights"
      ]
    },
    {
      "cell_type": "markdown",
      "metadata": {
        "id": "5qKRX7ply7I2"
      },
      "source": [
        "We have flattened all vector for you by `tensor.view(-1)`.\n",
        "\n",
        "Try plotting a histogram of each weight and show the total range and 3-sigma range for each weight.\n",
        "\n",
        "hint: `np.histogram()` and `plt.hist()`"
      ]
    },
    {
      "cell_type": "code",
      "execution_count": null,
      "metadata": {
        "colab": {
          "base_uri": "https://localhost:8080/",
          "height": 1000
        },
        "id": "N2h7zJ8m3GAF",
        "outputId": "3fb2c782-6731-4b62-a107-cae082ac5dfc"
      },
      "outputs": [
        {
          "data": {
            "image/png": "[encoded data removed]",
            "text/plain": [
              "<Figure size 432x288 with 1 Axes>"
            ]
          },
          "metadata": {
            "needs_background": "light"
          },
          "output_type": "display_data"
        },
        {
          "name": "stdout",
          "output_type": "stream",
          "text": [
            "For conv1 layer, the total range [Min , Max] = [-0.3126382529735565 , 0.4205809533596039]\n",
            "For conv1 layer, the 3-sigma range = [-0.4110677242279053 , 0.4324403405189514]\n"
          ]
        },
        {
          "data": {
            "image/png": "[encoded data removed]",
            "text/plain": [
              "<Figure size 432x288 with 1 Axes>"
            ]
          },
          "metadata": {
            "needs_background": "light"
          },
          "output_type": "display_data"
        },
        {
          "name": "stdout",
          "output_type": "stream",
          "text": [
            "For conv2 layer, the total range [Min , Max] = [-0.8779252171516418 , 0.4926808476448059]\n",
            "For conv2 layer, the 3-sigma range = [-0.6489301323890686 , 0.5345986485481262]\n"
          ]
        },
        {
          "data": {
            "image/png": "[encoded data removed]",
            "text/plain": [
              "<Figure size 432x288 with 1 Axes>"
            ]
          },
          "metadata": {
            "needs_background": "light"
          },
          "output_type": "display_data"
        },
        {
          "name": "stdout",
          "output_type": "stream",
          "text": [
            "For conv3 layer, the total range [Min , Max] = [-1.0463873147964478 , 0.8583561778068542]\n",
            "For conv3 layer, the 3-sigma range  = [-0.5496482253074646 , 0.5186673998832703]\n"
          ]
        },
        {
          "data": {
            "image/png": "[encoded data removed]",
            "text/plain": [
              "<Figure size 432x288 with 1 Axes>"
            ]
          },
          "metadata": {
            "needs_background": "light"
          },
          "output_type": "display_data"
        },
        {
          "name": "stdout",
          "output_type": "stream",
          "text": [
            "For fc1 layer, the total range [Min , Max] = [-0.7089919447898865 , 0.5807523727416992]\n",
            "For fc1 layer, the 3-sigma range  = [-0.5007722973823547 , 0.48278531432151794]\n"
          ]
        },
        {
          "data": {
            "image/png": "[encoded data removed]",
            "text/plain": [
              "<Figure size 432x288 with 1 Axes>"
            ]
          },
          "metadata": {
            "needs_background": "light"
          },
          "output_type": "display_data"
        },
        {
          "name": "stdout",
          "output_type": "stream",
          "text": [
            "For fc2 layer, the total range [Min , Max] = [-1.4360097646713257 , 0.2286263406276703]\n",
            "For fc2 layer, the 3-sigma range  = [-1.0488132238388062 , 0.5802807807922363]\n"
          ]
        }
      ],
      "source": [
        "import matplotlib.pyplot as plt\n",
        "\n",
        "conv1_weights = NET.conv1[0].weight.data.cpu().view(-1)\n",
        "conv2_weights = NET.conv3[0].weight.data.cpu().view(-1)\n",
        "conv3_weights = NET.conv5[0].weight.data.cpu().view(-1)\n",
        "fc1_weights = NET.fc6[0].weight.data.cpu().view(-1)\n",
        "fc2_weights = NET.output[0].weight.data.cpu().view(-1)\n",
        "\n",
        "weightDict = {\n",
        "    'conv1_weights':conv1_weights, \n",
        "    'conv2_weights': conv2_weights, \n",
        "    'conv3_weights': conv3_weights, \n",
        "    'fc1_weights': fc1_weights, \n",
        "    'fc2_weights':fc2_weights\n",
        "}\n",
        "\n",
        "# TODO\n",
        "# use np.histogram() and plt.hist() to show total range and three-sigma\n",
        "hist_conv1, bins_conv1 = np.histogram(conv1_weights, bins=50)\n",
        "plt.hist(bins_conv1[:-1], bins_conv1, weights=hist_conv1)\n",
        "plt.xlabel(\"weight range\")\n",
        "plt.ylabel(\"numbers of weight\")\n",
        "plt.title(\"Histogram_conv1_weights with bins = 50\") \n",
        "plt.show()\n",
        "\n",
        "conv1_weight_min = min(conv1_weights)\n",
        "conv1_weight_max = max(conv1_weights)\n",
        "print(\"For conv1 layer, the total range [Min , Max] = [{} , {}]\"\n",
        ".format(conv1_weight_min, conv1_weight_max))\n",
        "\n",
        "conv1_weight_avg = torch.mean(conv1_weights)\n",
        "conv1_weight_std = torch.std(conv1_weights)\n",
        "print(\"For conv1 layer, the 3-sigma range = [{} , {}]\"\n",
        ".format(conv1_weight_avg-3*conv1_weight_std, conv1_weight_avg+3*conv1_weight_std))\n",
        "\n",
        "#STEP 2\n",
        "hist_conv2, bins_conv2 = np.histogram(conv2_weights, bins=324)\n",
        "plt.hist(bins_conv2[:-1], bins_conv2, weights=hist_conv2)\n",
        "plt.xlabel(\"weight range\")\n",
        "plt.ylabel(\"numbers of weight\")\n",
        "plt.title(\"Histogram_conv2_weights with bins = 324\") \n",
        "plt.show()\n",
        "\n",
        "conv2_weight_min = min(conv2_weights)\n",
        "conv2_weight_max = max(conv2_weights)\n",
        "print(\"For conv2 layer, the total range [Min , Max] = [{} , {}]\"\n",
        ".format(conv2_weight_min, conv2_weight_max))\n",
        "\n",
        "conv2_weight_avg = torch.mean(conv2_weights)\n",
        "conv2_weight_std = torch.std(conv2_weights)\n",
        "print(\"For conv2 layer, the 3-sigma range = [{} , {}]\"\n",
        ".format(conv2_weight_avg-3*conv2_weight_std, conv2_weight_avg+3*conv2_weight_std))\n",
        "\n",
        "#STEP 3\n",
        "hist_conv3, bins_conv3 = np.histogram(conv3_weights, bins=324)\n",
        "plt.hist(bins_conv3[:-1], bins_conv3, weights=hist_conv3)\n",
        "plt.xlabel(\"weight range\")\n",
        "plt.ylabel(\"numbers of weight\")\n",
        "plt.title(\"Histogram_conv3_weights with bins = 324\") \n",
        "plt.show()\n",
        "\n",
        "conv3_weight_min = min(conv3_weights)\n",
        "conv3_weight_max = max(conv3_weights)\n",
        "print(\"For conv3 layer, the total range [Min , Max] = [{} , {}]\".format(conv3_weight_min, conv3_weight_max))\n",
        "\n",
        "conv3_weight_avg = torch.mean(conv3_weights)\n",
        "conv3_weight_std = torch.std(conv3_weights)\n",
        "print(\"For conv3 layer, the 3-sigma range  = [{} , {}]\"\n",
        ".format(conv3_weight_avg-3*conv3_weight_std, conv3_weight_avg+3*conv3_weight_std))\n",
        "\n",
        "#STEP 4\n",
        "hist_fc1, bins_fc1 = np.histogram(fc1_weights, bins=324)\n",
        "plt.hist(bins_fc1[:-1], bins_fc1, weights=hist_fc1)\n",
        "plt.xlabel(\"weight range\")\n",
        "plt.ylabel(\"numbers of weight\")\n",
        "plt.title(\"Histogram_fc1_weights with bins = 324\") \n",
        "plt.show()\n",
        "\n",
        "#FC fully connected\n",
        "fc1_weight_min = min(fc1_weights)\n",
        "fc1_weight_max = max(fc1_weights)\n",
        "print(\"For fc1 layer, the total range [Min , Max] = [{} , {}]\".format(fc1_weight_min, fc1_weight_max))\n",
        "\n",
        "fc1_weight_avg = torch.mean(fc1_weights)\n",
        "fc1_weight_std = torch.std(fc1_weights)\n",
        "print(\"For fc1 layer, the 3-sigma range  = [{} , {}]\".format(fc1_weight_avg-3*fc1_weight_std, fc1_weight_avg+3*fc1_weight_std))\n",
        "\n",
        "#STEP 5\n",
        "hist_fc2, bins_fc2 = np.histogram(fc1_weights, bins=324)\n",
        "plt.hist(bins_fc2[:-1], bins_fc2, weights=hist_fc2)\n",
        "plt.xlabel(\"weight range\")\n",
        "plt.ylabel(\"numbers of weight\")\n",
        "plt.title(\"Histogram_fc2_weights with bins = 324\") \n",
        "plt.show()\n",
        "#FC\n",
        "fc2_weight_min = min(fc2_weights)\n",
        "fc2_weight_max = max(fc2_weights)\n",
        "print(\"For fc2 layer, the total range [Min , Max] = [{} , {}]\".format(fc2_weight_min, fc2_weight_max))\n",
        "\n",
        "fc2_weight_avg = torch.mean(fc2_weights)\n",
        "fc2_weight_std = torch.std(fc2_weights)\n",
        "print(\"For fc2 layer, the 3-sigma range  = [{} , {}]\".format(fc2_weight_avg-3*fc2_weight_std, fc2_weight_avg+3*fc2_weight_std))"
      ]
    },
    {
      "cell_type": "markdown",
      "metadata": {
        "id": "2hKjshaHD11m"
      },
      "source": [
        "### 2.2 Question:  Quantize Weights\n",
        "Computation of convolution or fully-connected layer can be expressed as\n",
        "$$W\\times I = O$$\n",
        "where $W$ is the weight tensor, $I$ is the input tensor, and $O$ is the output tensor.\n",
        "Let $n_w$ be the scaling factor. We have $$W_q\\times I =n_w W \\times I\\approx n_w O$$ where $W_q$ is the quantized 8-bit signed integer weight tensor.\n",
        "\n",
        "Fill in the TODO in `quantized_weights()`.If you’ve done everything correctly, the accuracy degradation should be negligible.\n",
        "1. What is $n_w$? Explain how you get it.\n",
        "2. What is the accuracy degradation? \\\n",
        "Show both relative error and absolute error when the true value is the accuracy we get before performing any quanitzion."
      ]
    },
    {
      "attachments": {},
      "cell_type": "markdown",
      "metadata": {
        "id": "29fZlNzhnpgK"
      },
      "source": [
        "### 2.2 Answers\n",
        "<font color='red'>Write your answers here.</font>\n",
        "1. $n_w$ is the scaling factor. Used for quantizing weight tensor. Since we will need to adopt the symmetric quantization by the total range. So the rmax will be max(abs(weights.max()), abs(weight.min())). Then, the rmin will be -rmax. By applying the formula we can get scale = (rmax-rmin)/(2^8-1)=(rmax-rmin)/255. <br /> Also need to notify that the scale have to multiply with the weight. And the difference between the above formula and the formula in class material is that $n_w$ = 1/scale.\n",
        "2. Relative error: 98.69%-98.65% = 0.04%; <br />absolute error: (98.65-98.69)/98.69 = 0.04%\n",
        "<br />PS: 助教講的跟網路上定義相反，我原本是寫網路上的方法，然後後來透過宇騫問您relative error和abs error定義的同學，改成助教說的方法~(如果需要可以附上圖)\n"
      ]
    },
    {
      "cell_type": "code",
      "execution_count": null,
      "metadata": {
        "id": "qXNk1fXuPGjB"
      },
      "outputs": [],
      "source": [
        "net_q2 = copy_model(NET)"
      ]
    },
    {
      "cell_type": "code",
      "execution_count": null,
      "metadata": {
        "id": "GIBrqSFrVi5x"
      },
      "outputs": [],
      "source": [
        "from typing import Tuple\n",
        "\n",
        "def quantized_weights(weights: torch.Tensor) -> Tuple[torch.Tensor, float]:\n",
        "    '''\n",
        "    Quantize the weights so that all values are integers between -128 and 127.\n",
        "    Use the total range when deciding just what factors to scale the float32 \n",
        "    values by.\n",
        "\n",
        "    Parameters:\n",
        "    weights (Tensor): The unquantized weights\n",
        "\n",
        "    Returns:\n",
        "    (Tensor, float): A tuple with the following elements:\n",
        "        * The weights in quantized form, where every value is an integer between -128 and 127.\n",
        "          The \"dtype\" will still be \"float\", but the values themselves should all be integers.\n",
        "        * The scaling factor that your weights were multiplied by.\n",
        "          This value does not need to be an 8-bit integer.\n",
        "    '''\n",
        "\n",
        "    # TODO\n",
        "    # Adopt the symmetric quantization by the total range\n",
        "    # weights : means the unquantized weights\n",
        "    #method 1 \n",
        "     #rmax = torch.max(weights)\n",
        "     #rmin = -rmax\n",
        "     #scale = (rmax-rmin)/255 \n",
        "     #result = (weights/scale).round()  \n",
        "     #return torch.clamp(result, min=-128, max=127), 1/scale\n",
        "    #method 2\n",
        "    tensor_shape = weights.shape\n",
        "    weight_float = weights.view(-1)\n",
        "    weight_max = max(weight_float)\n",
        "    weight_min = min(weight_float)\n",
        "    #condition need to consider\n",
        "    if weight_max.abs() > weight_min.abs():\n",
        "        max_abs = weight_max\n",
        "    else:\n",
        "        max_abs = weight_min.abs()\n",
        "    scaling_factor = (255)/(2*max_abs)\n",
        "    weight_float = (scaling_factor*weight_float).round()\n",
        "    #\n",
        "    for index, w in enumerate(weight_float):\n",
        "        if w > 127:\n",
        "            weight_float[index] = 127\n",
        "        elif w < -128:\n",
        "            weight_float[index] = -128\n",
        "    # weight_float = weight_float.clamp(min=-128, max=127)\n",
        "    weights = weight_float.view(tensor_shape)\n",
        "\n",
        "    return weights, scaling_factor"
      ]
    },
    {
      "cell_type": "code",
      "execution_count": null,
      "metadata": {
        "id": "orOwTnXxU1nb"
      },
      "outputs": [],
      "source": [
        "def quantize_layer_weights(model: nn.Module):\n",
        "    for layer in model.modules():\n",
        "        if isinstance(layer, (nn.Conv2d, nn.Linear)):\n",
        "            q_layer_data, scale = quantized_weights(layer.weight.data)\n",
        "            q_layer_data = q_layer_data.to(device)\n",
        "\n",
        "            layer.weight.data = q_layer_data\n",
        "            layer.weight.scale = scale\n",
        "\n",
        "            if (q_layer_data < -128).any() or (q_layer_data > 127).any():\n",
        "                raise Exception(\n",
        "                \"Quantized weights of {} layer include values out of bounds for an 8-bit signed integer\".format(layer.__class__.__name__))\n",
        "            if (q_layer_data != q_layer_data.round()).any():\n",
        "                raise Exception(\n",
        "                \"Quantized weights of {} layer include non-integer values\".format(layer.__class__.__name__))\n",
        "\n",
        "quantize_layer_weights(net_q2)"
      ]
    },
    {
      "cell_type": "code",
      "execution_count": null,
      "metadata": {
        "colab": {
          "base_uri": "https://localhost:8080/"
        },
        "id": "wE3HqeBKVoYR",
        "outputId": "ce90a2af-9324-446a-dac6-62536ff1ddea"
      },
      "outputs": [
        {
          "name": "stdout",
          "output_type": "stream",
          "text": [
            "Accuracy of the network after quantizing all weights: 98.65%\n"
          ]
        }
      ],
      "source": [
        "score = test(net_q2, testloader) \n",
        "print('Accuracy of the network after quantizing all weights: {}%'.format(score)) "
      ]
    },
    {
      "cell_type": "markdown",
      "metadata": {
        "id": "xg7bfTF1bBVe"
      },
      "source": [
        "### 2.3 Question: Visualize Activations\n",
        "Plot histograms of the input images and the output activations of each operation and answer the following questions.\n",
        "1. Discuss any observations about the distribution of these activations.\n",
        "2. Record the range of the values, as well as their 3-sigma range (the difference between μ + 3σ and μ − 3σ)."
      ]
    },
    {
      "attachments": {},
      "cell_type": "markdown",
      "metadata": {
        "id": "KmwrrQ3cnxLo"
      },
      "source": [
        "### 2.3 Answers\n",
        "<font color='red'>Write your answers here.</font>\n",
        "1. \n",
        "&emsp;Except for the final output layer, the distribution values ​​of the output (input) activations of each layer probably fall between -1 to 2.  <br /> &emsp;Since the dynamic range of each activation is very small. If we use FP-32 to represent it, a lot of unnecessary computing burden will be added to the hardware. <br /> &emsp;I think it is very suitable to map the value of each layer to [-128, 127]. Use INT-8 operations to improve efficiency when implementing hardware later. <br />&emsp;Also, it will pass through a layer of Fully Connected Layer in the end and the number of outputs of this layer is 10. So it can be seen on the last output_activation graph that the values ​​on the vertical axis of the histogram add up to exactly 10 which is as excepted.\n",
        "2. To record the range of the values and their 3-sigma range (the difference between μ + 3σ and μ − 3σ). <br />I Divide into six part.<br />\n",
        "(1)Input_activations: <br />\n",
        "For input_activations, the total range [Min , Max] = [-1.0 , 0.984]<br />\n",
        "For input_activations, the 3-sigma range = [-2.484 , 1.038]<br />\n",
        "(2)Conv1_output_activations:<br />\n",
        "For conv1_output_activations, the total range [Min , Max] = [0.0 , 2.042]<br />\n",
        "For conv1_output_activations, the 3-sigma range = [-0.737 , 0.990]<br />\n",
        "(3)Conv3_output_activations:<br />\n",
        "For conv3_output_activations, the total range [Min , Max] = [0.0 , 4.996]<br />\n",
        "For conv3_output_activations, the 3-sigma range = [-1.224 , 1.443]<br />\n",
        "(4)Conv5_output_activations:<br />\n",
        "For conv5_output_activations, the total range [Min , Max] = [0.0 , 9.077]<br />\n",
        "For conv5_output_activations, the 3-sigma range = [-4.604 , 5.681]<br />\n",
        "(5)Fc6_output_activations:<br />\n",
        "For fc6_output_activations, the total range [Min , Max] = [0.0 , 8.770]<br />\n",
        "For fc6_output_activations, the 3-sigma range = [-4.696 , 6.783]<br />\n",
        "(6)Output_output_activations:<br />\n",
        "For output_output_activations, the total range [Min , Max] = [-35.356 , 1.471]<br />\n",
        "For output_output_activations, the 3-sigma range = [-51.455 , 10.807]<br />\n",
        "\n"
      ]
    },
    {
      "cell_type": "code",
      "execution_count": null,
      "metadata": {
        "id": "Mcv-7s5WQs0P"
      },
      "outputs": [],
      "source": [
        "net_q3 = copy_model(NET)\n",
        "\n",
        "def visualize_activations(module, input, output):\n",
        "    if module.profile_activations is True:\n",
        "        module.inAct = input[0].cpu().reshape(-1)\n",
        "        module.outAct = output[0].cpu().reshape(-1)\n",
        "    \n",
        "for name, model in net_q3.named_children():\n",
        "    print(\"{}\\n [register_forward_hook]: {}\".format(name, model))\n",
        "    model.profile_activations = True\n",
        "    model.register_forward_hook(visualize_activations)\n",
        "net_q3.eval()\n",
        "with torch.no_grad():\n",
        "    input = trainset[0][0].unsqueeze(0)\n",
        "    _ = net_q3(input.to(device))   \n",
        "for name, model in net_q3.named_children(): \n",
        "    model.profile_activations = False "
      ]
    },
    {
      "cell_type": "code",
      "execution_count": null,
      "metadata": {
        "colab": {
          "base_uri": "https://localhost:8080/",
          "height": 1000
        },
        "id": "AEo8VK46bwjn",
        "outputId": "05baa1b3-c1cc-43f3-9167-36184a92af79"
      },
      "outputs": [
        {
          "data": {
            "image/png": "[encoded data removed]",
            "text/plain": [
              "<Figure size 432x288 with 1 Axes>"
            ]
          },
          "metadata": {
            "needs_background": "light"
          },
          "output_type": "display_data"
        },
        {
          "name": "stdout",
          "output_type": "stream",
          "text": [
            "For input_activations, the total range [Min , Max] = [-1.0 , 0.9843137264251709]\n",
            "For input_activations, the 3-sigma range = [-2.484403610229492 , 1.0379424095153809]\n"
          ]
        },
        {
          "data": {
            "image/png": "[encoded data removed]",
            "text/plain": [
              "<Figure size 432x288 with 1 Axes>"
            ]
          },
          "metadata": {
            "needs_background": "light"
          },
          "output_type": "display_data"
        },
        {
          "name": "stdout",
          "output_type": "stream",
          "text": [
            "For conv1_output_activations, the total range [Min , Max] = [0.0 , 2.0422251224517822]\n",
            "For conv1_output_activations, the 3-sigma range = [-0.7370423674583435 , 0.9904592633247375]\n"
          ]
        },
        {
          "data": {
            "image/png": "[encoded data removed]",
            "text/plain": [
              "<Figure size 432x288 with 1 Axes>"
            ]
          },
          "metadata": {
            "needs_background": "light"
          },
          "output_type": "display_data"
        },
        {
          "name": "stdout",
          "output_type": "stream",
          "text": [
            "For conv3_output_activations, the total range [Min , Max] = [0.0 , 4.995591163635254]\n",
            "For conv3_output_activations, the 3-sigma range = [-1.2242180109024048 , 1.4439336061477661]\n"
          ]
        },
        {
          "data": {
            "image/png": "[encoded data removed]",
            "text/plain": [
              "<Figure size 432x288 with 1 Axes>"
            ]
          },
          "metadata": {
            "needs_background": "light"
          },
          "output_type": "display_data"
        },
        {
          "name": "stdout",
          "output_type": "stream",
          "text": [
            "For conv5_output_activations, the total range [Min , Max] = [0.0 , 9.076972007751465]\n",
            "For conv5_output_activations, the 3-sigma range = [-4.603542327880859 , 5.680952072143555]\n"
          ]
        },
        {
          "data": {
            "image/png": "[encoded data removed]",
            "text/plain": [
              "<Figure size 432x288 with 1 Axes>"
            ]
          },
          "metadata": {
            "needs_background": "light"
          },
          "output_type": "display_data"
        },
        {
          "name": "stdout",
          "output_type": "stream",
          "text": [
            "For fc6_output_activations, the total range [Min , Max] = [0.0 , 8.770421981811523]\n",
            "For fc6_output_activations, the 3-sigma range = [-4.696049213409424 , 6.783362865447998]\n"
          ]
        },
        {
          "data": {
            "image/png": "[encoded data removed]",
            "text/plain": [
              "<Figure size 432x288 with 1 Axes>"
            ]
          },
          "metadata": {
            "needs_background": "light"
          },
          "output_type": "display_data"
        },
        {
          "name": "stdout",
          "output_type": "stream",
          "text": [
            "For output_output_activations, the total range [Min , Max] = [-35.35569763183594 , 1.4714858531951904]\n",
            "For output_output_activations, the 3-sigma range = [-51.45478820800781 , 10.807010650634766]\n"
          ]
        }
      ],
      "source": [
        "input_activations = net_q3.conv1.inAct\n",
        "conv1_output_activations = net_q3.conv1.outAct\n",
        "conv3_output_activations = net_q3.conv3.outAct\n",
        "conv5_output_activations = net_q3.conv5.outAct\n",
        "fc6_output_activations = net_q3.fc6.outAct\n",
        "output_output_activations = net_q3.output.outAct\n",
        "\n",
        "actDict = {\n",
        "    'input_activations':input_activations, \n",
        "    'conv1_output_activations':conv1_output_activations, \n",
        "    'conv3_output_activations':conv3_output_activations, \n",
        "    'conv5_output_activations':conv5_output_activations, \n",
        "    'fc6_output_activations':fc6_output_activations, \n",
        "    'output_output_activations':output_output_activations\n",
        "}\n",
        "\n",
        "# TODO\n",
        "hist_output, bins_output = np.histogram(input_activations, bins=16)\n",
        "plt.hist(bins_output[:-1], bins_output, weights=hist_output)\n",
        "plt.xlabel(\"Input activation range\")\n",
        "plt.ylabel(\"numbers of input\")\n",
        "plt.title(\"Histogram_input_activations with bins = 16\") \n",
        "plt.show()\n",
        "\n",
        "input_activations_min = min(input_activations)\n",
        "input_activations_max = max(input_activations)\n",
        "print(\"For input_activations, the total range [Min , Max] = [{} , {}]\".format(input_activations_min, input_activations_max))\n",
        "\n",
        "input_activations_avg = torch.mean(input_activations)\n",
        "input_activations_std = torch.std(input_activations)\n",
        "print(\"For input_activations, the 3-sigma range = [{} , {}]\".format(input_activations_avg-3*input_activations_std, input_activations_avg+3*input_activations_std))\n",
        "\n",
        "#Conv1\n",
        "hist_conv1, bins_conv1 = np.histogram(conv1_output_activations, bins=16)\n",
        "plt.hist(bins_conv1[:-1], bins_conv1, weights=hist_conv1)\n",
        "plt.xlabel(\"Output activation range\")\n",
        "plt.ylabel(\"numbers of output\")\n",
        "plt.title(\"Histogram_conv1_output_activations with bins = 16\") \n",
        "plt.show()\n",
        "\n",
        "conv1_output_activations_min = min(conv1_output_activations)\n",
        "conv1_output_activations_max = max(conv1_output_activations)\n",
        "print(\"For conv1_output_activations, the total range [Min , Max] = [{} , {}]\".format(conv1_output_activations_min, conv1_output_activations_max))\n",
        "\n",
        "conv1_output_activations_avg = torch.mean(conv1_output_activations)\n",
        "conv1_output_activations_std = torch.std(conv1_output_activations)\n",
        "print(\"For conv1_output_activations, the 3-sigma range = [{} , {}]\"\n",
        "        .format(conv1_output_activations_avg-3*conv1_output_activations_std, conv1_output_activations_avg+3*conv1_output_activations_std))\n",
        "#Conv3\n",
        "hist_conv3, bins_conv3 = np.histogram(conv3_output_activations, bins=16)\n",
        "plt.hist(bins_conv3[:-1], bins_conv3, weights=hist_conv3)\n",
        "plt.xlabel(\"Output activation range\")\n",
        "plt.ylabel(\"numbers of output\")\n",
        "plt.title(\"Histogram_conv3_output_activations with bins = 16\") \n",
        "plt.show()\n",
        "\n",
        "conv3_output_activations_min = min(conv3_output_activations)\n",
        "conv3_output_activations_max = max(conv3_output_activations)\n",
        "print(\"For conv3_output_activations, the total range [Min , Max] = [{} , {}]\".format(conv3_output_activations_min, conv3_output_activations_max))\n",
        "\n",
        "conv3_output_activations_avg = torch.mean(conv3_output_activations)\n",
        "conv3_output_activations_std = torch.std(conv3_output_activations)\n",
        "print(\"For conv3_output_activations, the 3-sigma range = [{} , {}]\".format(conv3_output_activations_avg-3*conv3_output_activations_std, conv3_output_activations_avg+3*conv3_output_activations_std))\n",
        "\n",
        "#Conv5\n",
        "hist_conv5, bins_conv5 = np.histogram(conv5_output_activations, bins=16)\n",
        "plt.hist(bins_conv5[:-1], bins_conv5, weights=hist_conv5)\n",
        "plt.xlabel(\"Output activation range\")\n",
        "plt.ylabel(\"numbers of output\")\n",
        "plt.title(\"Histogram_conv5_output_activations with bins = 16\") \n",
        "plt.show()\n",
        "\n",
        "conv5_output_activations_min = min(conv5_output_activations)\n",
        "conv5_output_activations_max = max(conv5_output_activations)\n",
        "print(\"For conv5_output_activations, the total range [Min , Max] = [{} , {}]\".format(conv5_output_activations_min, conv5_output_activations_max))\n",
        "\n",
        "conv5_output_activations_avg = torch.mean(conv5_output_activations)\n",
        "conv5_output_activations_std = torch.std(conv5_output_activations)\n",
        "print(\"For conv5_output_activations, the 3-sigma range = [{} , {}]\".format(conv5_output_activations_avg-3*conv5_output_activations_std, conv5_output_activations_avg+3*conv5_output_activations_std))\n",
        "\n",
        "#FC6\n",
        "hist_fc6, bins_fc6 = np.histogram(fc6_output_activations, bins=10)\n",
        "plt.hist(bins_fc6[:-1], bins_fc6, weights=hist_fc6)\n",
        "plt.xlabel(\"Output activation range\")\n",
        "plt.ylabel(\"numbers of output\")\n",
        "plt.title(\"Histogram_fc6_output_activations with bins = 16\") \n",
        "plt.show()\n",
        "\n",
        "fc6_output_activations_min = min(fc6_output_activations)\n",
        "fc6_output_activations_max = max(fc6_output_activations)\n",
        "print(\"For fc6_output_activations, the total range [Min , Max] = [{} , {}]\".format(fc6_output_activations_min, fc6_output_activations_max))\n",
        "\n",
        "fc6_output_activations_avg = torch.mean(fc6_output_activations)\n",
        "fc6_output_activations_std = torch.std(fc6_output_activations)\n",
        "print(\"For fc6_output_activations, the 3-sigma range = [{} , {}]\"\n",
        "        .format(fc6_output_activations_avg-3*fc6_output_activations_std, fc6_output_activations_avg+3*fc6_output_activations_std))\n",
        "#output_output\n",
        "hist_output, bins_output = np.histogram(output_output_activations, bins=12)\n",
        "plt.hist(bins_output[:-1], bins_output, weights=hist_output)\n",
        "plt.xlabel(\"Output activation range\")\n",
        "plt.ylabel(\"numbers of output\")\n",
        "plt.title(\"Histogram_output_output_activations with bins = 16\") \n",
        "plt.show()\n",
        "\n",
        "output_output_activations_min = min(output_output_activations)\n",
        "output_output_activations_max = max(output_output_activations)\n",
        "print(\"For output_output_activations, the total range [Min , Max] = [{} , {}]\".format(output_output_activations_min, output_output_activations_max))\n",
        "\n",
        "output_output_activations_avg = torch.mean(output_output_activations)\n",
        "output_output_activations_std = torch.std(output_output_activations)\n",
        "print(\"For output_output_activations, the 3-sigma range = [{} , {}]\".format(output_output_activations_avg-3*output_output_activations_std, output_output_activations_avg+3*output_output_activations_std))"
      ]
    },
    {
      "cell_type": "markdown",
      "metadata": {
        "id": "haiPVx4ibEra"
      },
      "source": [
        "### 2.4 Question:  Quantize Activations\n",
        "The output of conv in conv1 can be $$W_{conv1}\\times I=O_{conv1}.$$\n",
        "Let the scaling factor of the quantized input matrix $I$ be $n_I$, the scaling factor of the quantized weight matrix $W_{conv1}$ \n",
        "be $n_{W_{conv1}}$, and the scaling factor of the output matrix $O_{conv1}$ be $n_{O_{conv1}}$.  \n",
        "$$W_{conv1_q}\\times I_q = (n_{W_{conv1}}W_{conv1})\\times (n_II)\\approx (n_{W_{conv1}}n_I)O_{conv1}$$\n",
        "where $W_{conv1_q}$ is the quantized 8-bit signed integer weight tensor and $I_q$ is the quantized 8-bit signed integer input activation tensor.\n",
        "\n",
        "$$O_{conv1_q} \\approx n_{O_{conv1}}O_{conv1}$$\n",
        "where $O_{conv1_q}$ is the quantized 8-bit signed integer output activation tensor.\n",
        "\n",
        "Since we're doing post-training quantization, we can get $n_I$, $n_{W_{conv1}}$, and $n_{O_{conv1}}$ first and do the other calculations for quantization.\n",
        "\n",
        "As for `forward()` of `NetQuantized()`, make sure you can simulate fixed-point representation when doing any calculation with input/output scale. Keep in mind that we will implement hardware to accelerate this model with fixed-point computations.\n",
        "   * In this assignment, we only \"emulate\" fixed-point computations. We don't need to use any fixed-point data type (e.g., `int`).\n",
        "   * You will have to fill in the TODO in `forward()` to scale the outputs of each layer. Consider rounding binary fractions to the 16th place with the following steps (e.g., for output_scale): \n",
        "       1. `scale = round(scale*(2**16))`: Now, we have the `scale` rounded to the 16th place with a software trick of moving the binary point (`*(2**16)`) and applying the round function.\n",
        "       2. `(scale*features) >> 16`: Move back the binary point.\n",
        "        * As for scaling the initial input, you can simply perform `round(scale)*features` since `input_scale` is much greater than 1.\n",
        "       3. Two options for emulating bit-shifting in fixed-point numbers instead of floating-point numbers:\n",
        "        1.\t`(scale*features) >> 16`. Make sure that the data type of `(scale*input features)` is **int**.\n",
        "        2.\t`floor((scale*features) >> 16)`\n",
        "       4. Clamp the value between -128 and 127\n",
        "    \n",
        "    \n",
        "\n",
        "Answer the following questions.\n",
        "\n",
        "1. How to compute $n_I$, $n_{W_{conv1}}$, and $n_{O_{conv1}}$? \n",
        "2. The ture quantized output activation tensor is depend on $W_{conv1_q}$ and $I_q$, so we cannot simply apply only $n_{O_{conv1}}$ on the output of $W_{conv1_q}\\times I_q$ to quantize output activation. \\\n",
        "Derive an equation for the quantized output of the conv in conv1 after quantizing activation and weight with  $n_I$, $n_{W_{conv1}}$, and $n_{O_{conv1}}$ and show the scaling factor $S_1$ of it. \\\n",
        "(hint: quantize $O$ in $W_{conv1_q}\\times I_q = O$ and get $W_{conv1_q}\\times I_q \\approx S_1O = O_q$ where $O_q$ is the quantized 8-bit signed integer output.)\n",
        "3. Derive an equation for the quantized output of the conv in conv3 after quantizing activation and weight.\n",
        "4. Show the general equantion of each layer for calculating the scaling factor of output activation.\n",
        "5. Fill in the TODO in the following code.If you’ve done everything correctly, the accuracy degradation should be negligible. What is the accuracy degradation? Show both relative error and absolute error when the true value is the accuracy we get before performing any quanitzion."
      ]
    },
    {
      "attachments": {},
      "cell_type": "markdown",
      "metadata": {
        "id": "TP8BXLoBn7Wz"
      },
      "source": [
        "### 2.4 Answers\n",
        "<font color='red'>Write your answers here.</font>\n",
        "1. <br />\n",
        "$$n_I= \\frac{255}{2*|Input|_{max}}$$\n",
        "\n",
        "$$n_{Wconv1} = \\frac{255}{2*|Weight_{conv1}|_{max}}$$\n",
        "\n",
        "$$n_{Oconv1} = \\frac{255}{2*|Output_{conv1}|_{max}}$$\n",
        "2. <br />$$W_{conv1_q}* I_q = (n_{W_{conv1}}W_{conv1})* (n_II)\\approx (n_{W_{conv1}}n_I)O_{conv1}$$ <br />\n",
        "    Also, $$O_{conv1_q} \\approx n_{O_{conv1}}O_{conv1}$$ <br />\n",
        "     Therefore, <br />\n",
        "      $$S_{1} = \\frac{n_{oconv1}}{nw_{conv1}*n_{I}}$$\n",
        "\n",
        "3. <br />$$W_{con3q} * O_{conv1q} = nw_{conv3}*n_{oconv1}*W_{conv3}*O_{conv1} = nw_{conv3} * n_{oconv1} * O_{conv3}$$ <br /> \n",
        "    Also, \n",
        "$$n_{oconv3} * O_{conv3} = O_{conv3q}$$<br /> \n",
        "  Therefore, <br />$$S_{3} = \\frac{n_{oconv3}}{nw_{conv3}*n_{oconv1}}.$$  <br />Since<br /> $$S_{1} = \\frac{n_{oconv1}}{nw_{conv1}*n_{I}}$$ <br />$$S_{3} = \\frac{n_{oconv3}}{nw_{conv1}*nw_{conv3}*S_1*n_{I}}$$\n",
        "4. Let the l be the abbreviation of \"layer\", and $S_{l}$ means scaling factor of layer<br />\n",
        "$$S_{l} = \\frac{n_{oconvl}}{nw_{convl}*n_{oconv(l-1)}}$$<br />  $$S_{l-1} = \\frac{n_{oconv(l-1)}}{nw_{conv(l-1)}*n_{oconv(l-2)}}$$ Therefore, $$S_{l} = \\frac{n_{oconvl}}{nw_{convl}*...*nw_{conv1}*S_{l-1}*...*S_1*n_I}$$\n",
        "5. Relative error: 98.65-98.65 =0 ; <br />absolute error: (98.65-98.65)/ 98.65= 0\n"
      ]
    },
    {
      "cell_type": "code",
      "execution_count": null,
      "metadata": {
        "id": "zLjSp7hsXofq"
      },
      "outputs": [],
      "source": [
        "from typing import List\n",
        "\n",
        "class NetQuantized(nn.Module):\n",
        "    def __init__(self, net_with_weights_quantized: nn.Module):\n",
        "        super(NetQuantized, self).__init__()\n",
        "        \n",
        "        net_init = copy_model(net_with_weights_quantized)\n",
        "\n",
        "        self.conv1 = net_init.conv1\n",
        "        self.maxpool2 = net_init.maxpool2\n",
        "        self.conv3 = net_init.conv3\n",
        "        self.maxpool4 = net_init.maxpool4\n",
        "        self.conv5 = net_init.conv5\n",
        "        self.fc6 = net_init.fc6\n",
        "        self.output = net_init.output\n",
        "\n",
        "        for layer in self.conv1, self.conv3, self.conv5, self.fc6, self.output:\n",
        "            def pre_hook(l, x):\n",
        "                x = x[0]\n",
        "                if (x < -128).any() or (x > 127).any():\n",
        "                    raise Exception(\"Input to {} layer is out of bounds for an 8-bit signed integer\".format(l.__class__.__name__))\n",
        "                if (x != x.round()).any():\n",
        "                    raise Exception(\"Input to {} layer has non-integer values\".format(l.__class__.__name__))\n",
        "            layer.register_forward_pre_hook(pre_hook)\n",
        "\n",
        "        # Calculate the scaling factor for the initial input to the CNN\n",
        "        self.input_activations = net_with_weights_quantized.conv1.inAct\n",
        "        self.input_scale = NetQuantized.quantize_initial_input(self.input_activations)\n",
        "        print(self.input_scale) #debug\n",
        "\n",
        "        # Calculate the output scaling factors for all the layers of the CNN\n",
        "        preceding_layer_scales = []\n",
        "        for layer in self.conv1, self.conv3, self.conv5, self.fc6, self.output:\n",
        "            layer.output_scale = NetQuantized.quantize_activations(layer.outAct, layer[0].weight.scale, self.input_scale, preceding_layer_scales)\n",
        "            preceding_layer_scales.append((layer[0].weight.scale, layer.output_scale))\n",
        "    @staticmethod\n",
        "    def quantize_initial_input(pixels: np.ndarray) -> float:\n",
        "        '''\n",
        "        Calculate a scaling factor for the images that are input to the first layer of the CNN.\n",
        "\n",
        "        Parameters:\n",
        "        pixels (ndarray): The values of all the pixels which were part of the input image during training\n",
        "\n",
        "        Returns:\n",
        "        float: A scaling factor that the input should be multiplied by before being fed into the first layer.\n",
        "               This value does not need to be an 8-bit integer.\n",
        "        '''\n",
        "    \n",
        "        # TODO 1\n",
        "        # use scaling_factor \n",
        "        # declare input_activation_max & input_activation_min\n",
        "        input_activation_max = pixels.max()\n",
        "        input_activation_min = pixels.min()\n",
        "        # abs if-else condition\n",
        "        if input_activation_max > abs(input_activation_min):\n",
        "            max_abs=input_activation_max\n",
        "        else:\n",
        "            max_abs=abs(input_activation_min)\n",
        "        scaling_factor = (255)/(2*max_abs)\n",
        "        #print('TODO 1 Before: {}'.format(1/scaling_factor))\n",
        "        #print('After: {}' .format(((1/scaling_factor)*(2**16)).round()))\n",
        "        return scaling_factor\n",
        "        #return 1              \n",
        "        #return scaling_factor   \n",
        "        \n",
        "    @staticmethod\n",
        "    def quantize_activations(activations: np.ndarray, n_w: float, n_initial_input: float, n_s: List[Tuple[float, float]]) -> float:\n",
        "        '''\n",
        "        Calculate a scaling factor to multiply the output of a layer by.\n",
        "\n",
        "        Parameters:\n",
        "        activations (ndarray): The values of all the pixels which have been output by this layer during training\n",
        "        n_w (float): The scale by which the weights of this layer were multiplied as part of the \"quantize_weights\" function you wrote earlier\n",
        "        n_initial_input (float): The scale by which the initial input to the neural network was multiplied\n",
        "        n_s ([(float, float)]): A list of tuples, where each tuple represents the \"weight scale\" and \"output scale\" (in that order) for every preceding layer\n",
        "\n",
        "        Returns:\n",
        "        float: A scaling factor that the layer output should be multiplied by before being fed into the first layer.\n",
        "               This value does not need to be an 8-bit integer.\n",
        "        '''\n",
        "        # TODO 2\n",
        "        # use scaling_factor \n",
        "        # declare output_activation_max & output_activation_min\n",
        "        output_activation_max = activations.max() \n",
        "        output_activation_min = activations.min()\n",
        "        # If-else condition\n",
        "        if output_activation_max > abs(output_activation_min):\n",
        "            max_abs= output_activation_max\n",
        "        else:\n",
        "            max_abs= abs(output_activation_min)\n",
        "        n_oa = (255)/(2*max_abs)\n",
        "\n",
        "        list_len = len(n_s)\n",
        "        if list_len != 0:\n",
        "            for i in range(list_len):\n",
        "                for j in range(2):\n",
        "                    n_initial_input = n_s[i][j]*n_initial_input\n",
        "        result2 = n_oa/(n_w*n_initial_input)\n",
        "        \n",
        "        #print('TODO2 Before: {}'.format(result2))\n",
        "        #print(n_initial_input)\n",
        "        #print('TODO2 After: {}' .format((result*(2**16)).round()))       \n",
        "        \n",
        "        return result2\n",
        "        # TODO2 END\n",
        "\n",
        "    def forward(self, x: torch.Tensor) -> torch.Tensor:\n",
        "        '''\n",
        "        Since input_scale is 128 and all output_scales are less than 1, we should keep input_scale as it is and tranform output_scale to \n",
        "        round(1/output_scale) to ease the verilog implementaion.\n",
        "        \n",
        "        Also, the normalized input images is a matrix with lots of floating numbers. We can transform x*input_scale to\n",
        "        input_scale/round(1/x)\n",
        "        \n",
        "        To not implement rounding in verilog, we use floor when doing other calculations with input/output_scale.\n",
        "        '''\n",
        "        \n",
        "        # TODO 3\n",
        "        # PyTorch tensor x，代表一筆訓練數據的特徵值。輸出 also a PyTorch tensor，\n",
        "        # to represent through CNN result\n",
        "        #'rshift'操作是用於將二進制表示的數值向右移動指定位數。僅支持整數，對於如浮點數，會出現上述錯誤。\n",
        "        x = (self.input_scale*x).floor()\n",
        "        x = x.clamp(min=-128, max=127)\n",
        "        x = self.conv1(x)\n",
        "        \n",
        "        conv1_output_scale = (self.conv1.output_scale*(2**16)).round()\n",
        "        #print(\"conv1_output_scale*x: (befor, after) = ({}, {})\".format(\n",
        "        #    self.conv1.output_scale, conv1_output_scale))\n",
        "        x = ((conv1_output_scale*x) / 2**16).floor()\n",
        "        x = x.clamp(min=-128, max=127)\n",
        "        x = self.maxpool2(x)\n",
        "        x = self.conv3(x)\n",
        "\n",
        "        conv3_output_scale = (self.conv3.output_scale*(2**16)).round()\n",
        "        x = ((conv3_output_scale*x) / 2**16).floor()\n",
        "        x = x.clamp(min=-128, max=127)\n",
        "        x = self.maxpool4(x)\n",
        "        x = self.conv5(x)\n",
        "\n",
        "        conv5_output_scale = (self.conv5.output_scale*(2**16)).round()\n",
        "        x = ((conv5_output_scale*x) / 2**16).floor()\n",
        "        x = x.clamp(min=-128, max=127)\n",
        "        x = torch.flatten(x, 1)\n",
        "        x = self.fc6(x)\n",
        "\n",
        "        fc6_output_scale = (self.fc6.output_scale*(2**16)).round()\n",
        "        x = ((fc6_output_scale*x) / 2**16).floor()\n",
        "        x = x.clamp(min=-128, max=127)\n",
        "        x = self.output(x)\n",
        "\n",
        "        output_output_scale = (self.output.output_scale*(2**16)).round()\n",
        "        x = ((output_output_scale*x) / 2**16).floor()\n",
        "        x = x.clamp(min=-128, max=127)\n",
        "        '''\n",
        "        # TODO 3 Used for debug\n",
        "        print(\"conv1_output_scale: (befor, after) = ({}, {})\".format(\n",
        "            self.conv1.output_scale, conv1_output_scale))\n",
        "        print(\"conv3_output_scale: (befor, after) = ({}, {})\".format(\n",
        "            self.conv3.output_scale, conv3_output_scale))\n",
        "        print(\"conv5_output_scale: (befor, after) = ({}, {})\".format(\n",
        "            self.conv5.output_scale, conv5_output_scale))\n",
        "        print(\"fc6_output_scale: (befor, after) = ({}, {})\".format(\n",
        "            self.fc6.output_scale, fc6_output_scale))\n",
        "        print(\"output_output_scale: (befor, after) = ({}, {})\".format(\n",
        "            self.output.output_scale, output_output_scale))\n",
        "        #'rshift'操作是用於將二進制表示的數值向右移動指定位數。僅支持整數，對於如浮點數，會出現上述錯誤。\n",
        "        '''\n",
        "        return x"
      ]
    },
    {
      "cell_type": "code",
      "execution_count": null,
      "metadata": {
        "colab": {
          "base_uri": "https://localhost:8080/"
        },
        "id": "13CpHgvE994J",
        "outputId": "c97e36f5-a280-4750-ca50-50bd7c93287d"
      },
      "outputs": [
        {
          "name": "stdout",
          "output_type": "stream",
          "text": [
            "tensor(127.5000)\n"
          ]
        }
      ],
      "source": [
        "net_init = copy_model(net_q2)\n",
        "net_init.input_activations = deepcopy(net_q3.conv1.inAct)\n",
        "        \n",
        "for layer_init, layer_q3 in zip(net_init.children(), net_q3.children()):\n",
        "    layer_init.inAct = deepcopy(layer_q3.inAct)\n",
        "    layer_init.outAct = deepcopy(layer_q3.outAct)\n",
        "\n",
        "net_quantized = NetQuantized(net_init)"
      ]
    },
    {
      "cell_type": "code",
      "execution_count": null,
      "metadata": {
        "colab": {
          "base_uri": "https://localhost:8080/"
        },
        "id": "VcBXEodN6hrY",
        "outputId": "afc54c58-f791-4d5a-b041-752087f632c0"
      },
      "outputs": [
        {
          "name": "stdout",
          "output_type": "stream",
          "text": [
            "Accuracy of the network after quantizing both weights and activations: 98.65%\n"
          ]
        }
      ],
      "source": [
        "score = test(net_quantized, testloader)\n",
        "print('Accuracy of the network after quantizing both weights and activations: {}%'.format(score))"
      ]
    },
    {
      "cell_type": "markdown",
      "metadata": {
        "id": "f-y3ioyHQs0R"
      },
      "source": [
        "Answer the following questions.(hint: please consider verilog implementation):\n",
        "\n",
        "6. What is the benefit of using `floor`?\n",
        "7. What is the benefit of replacing `x*output_scale`with `x/round(1/output_scale)`?"
      ]
    },
    {
      "cell_type": "markdown",
      "metadata": {
        "id": "OJRfyKGzoQUv"
      },
      "source": [
        "### 2.4 Answers\n",
        "<font color='red'>Write your answers here.</font>\n",
        "6. &emsp;The purpose of using the floor function is to round down floating-point numbers and convert them to integers. <br /> &emsp;In Verilog implementation, it is necessary to convert floating-point numbers to integers before performing calculations let hardware easy to design. If a floating-point number is directly converted to an integer, it can result in loss of precision and introduce errors.  <br /> &emsp;Using the floor function ensures that the resulting integer is the closest integer to the original floating-point number, and it does not introduce any loss of precision or errors. \n",
        "7. &emsp;Replacing x*output_scale with x/round(1/output_scale) in verilog may simplify the scaling operation's implementation. Due to original one need multiplication which is cost more time than  division.\n",
        "<br /> &emsp;By using division instead, the scaling operation's implementation can be made more efficient. Also, round the inverse of the output scale ensures accurate scaling without any loss of precision or errors that could result from using a floating-point number."
      ]
    },
    {
      "cell_type": "code",
      "execution_count": null,
      "metadata": {
        "colab": {
          "base_uri": "https://localhost:8080/"
        },
        "id": "oFYJQKXTQs0R",
        "outputId": "4111bcc6-5db0-4a2c-f0d7-3f2664fdd534"
      },
      "outputs": [
        {
          "name": "stdout",
          "output_type": "stream",
          "text": [
            "input_scale:\n",
            " 127.5\n",
            "output_scale:\n",
            " 0.0016152352327480912\n",
            " 0.0028149071149528027\n",
            " 0.004516771994531155\n",
            " 0.005755083169788122\n",
            " 0.002793883439153433\n",
            "input_scale:\n",
            " 127.5\n",
            "output_scale:\n",
            " 619\n",
            " 355\n",
            " 221\n",
            " 174\n",
            " 358\n"
          ]
        }
      ],
      "source": [
        "print(\"input_scale:\\n\", net_quantized.input_scale.item())\n",
        "print(\"output_scale:\\n {}\\n {}\\n {}\\n {}\\n {}\".format(\n",
        "    net_quantized.conv1.output_scale.item(),\n",
        "    net_quantized.conv3.output_scale.item(),\n",
        "    net_quantized.conv5.output_scale.item(),\n",
        "    net_quantized.fc6.output_scale.item(),\n",
        "    net_quantized.output.output_scale.item()\n",
        "))\n",
        "\n",
        "print(\"input_scale:\\n\", net_quantized.input_scale.item())\n",
        "print(\"output_scale:\\n {}\\n {}\\n {}\\n {}\\n {}\".format(\n",
        "    round(1/net_quantized.conv1.output_scale.item()),\n",
        "    round(1/net_quantized.conv3.output_scale.item()),\n",
        "    round(1/net_quantized.conv5.output_scale.item()),\n",
        "    round(1/net_quantized.fc6.output_scale.item()),\n",
        "    round(1/net_quantized.output.output_scale.item())\n",
        "))"
      ]
    },
    {
      "cell_type": "markdown",
      "metadata": {
        "id": "1jTOL7scbMs7"
      },
      "source": [
        "### 2.5 Question:  Quantize Biases\n",
        "We add a bias in the final layer of this LeNet.\n",
        "* You should comment out `train(NET_WITH_BIAS, trainloader, 2)` and uncomment `NET_WITH_BIAS.load_state_dict(torch.load('lenet_with_bias.pt'))` before submitting your homework.\n",
        "    * Also, reloading the model from `lenet_with_bias.pt` can save your time if there is something wrong and you need to restart and run all.\n",
        "\n",
        "Answer the following questions.\n",
        "1. Now the equation is $$W*I+\\beta = O$$ where $\\beta$ is the bias. Derive the equation of a quantized layer with bias.\\\n",
        "Note that our biases are commonly quantized to 32-bits\n",
        "2. What is the scaling factor for the bias?\\\n",
        "(hint: the form looks just like what we have done for quantizing activations)\n",
        "3. Fill in the TODO in the following code.If you’ve done everything correctly, the accuracy degradation should be negligible. What is the accuracy degradation?\\\n",
        "Show both relative error and absolute error when the true value is the accuracy we get before performing any quanitzion."
      ]
    },
    {
      "attachments": {},
      "cell_type": "markdown",
      "metadata": {
        "id": "JbEIJDCsoZOF"
      },
      "source": [
        "### 2.5 Answers\n",
        "<font color='red'>Write your answers here.</font>\n",
        "1. $$W*I+\\beta = O$$ \n",
        "Note that \n",
        "$$W = \\frac{W_q}{n_W}$$ \n",
        "$$I = \\frac{I_q}{n_I}$$\n",
        "and \n",
        "$$O = \\frac{O_q}{n_O}$$ \n",
        "\n",
        "Therefore, the original formula \n",
        "$$W*I+\\beta = O$$ can be written as \n",
        "$$\\frac{W_q}{n_W}*\\frac{I_q}{n_I}+\\beta = \\frac{O_q}{n_O}$$ \n",
        "2. $$n_O\\frac{W_q}{n_W}*\\frac{I_q}{n_I}+n_O\\beta = O_q$$\n",
        "Finally, so we get the scale of the bias will be\n",
        "$n_O$. By above, we get the formula \n",
        "$$S_{l} = \\frac{n_{ocl}}{nw_{cl}*...*nw_{c1}*S_{l-1}*...*S_1*n_I}$$ replace the $n_O$ in bias scale with $S_l$ formula.\n",
        "As the result, the scale can be represent as $$nw_{cl}*...*nw_{c1}*S_{l}*...*S_1*n_I$$\n",
        "3. (a)Accuracy of the network (with a bias) on the test images & all the weights are quantized but the bias isn't Relative error: 98.64%-98.66% = -0.02%; absolute error: (98.66-98.64)/98.64 = 0.02% (b)Accuracy of the network (with a bias) on the test images & all the weights and the bias are quantized Relative error: 98.64%-98.63% = 0.01%; absolute error: (98.63-98.64)/98.64 = 0.01%<br />PS: 助教講的跟網路上定義相反，我原本是寫網路上的方法，然後後來透過宇騫問您relative error和abs error定義的同學，改成助教說的方法~(如果需要可以附上圖)"
      ]
    },
    {
      "cell_type": "code",
      "execution_count": null,
      "metadata": {
        "id": "bvv9-k1HPbgz"
      },
      "outputs": [],
      "source": [
        "class NetWithBias(Net):\n",
        "    def __init__(self):\n",
        "        super(NetWithBias, self).__init__()\n",
        "\n",
        "        self.output = nn.Sequential(OrderedDict([\n",
        "            ('fc', nn.Linear(84, 10, bias=True)),\n",
        "        ]))\n",
        "    \n",
        "NET_WITH_BIAS = NetWithBias().to(device)"
      ]
    },
    {
      "cell_type": "code",
      "execution_count": null,
      "metadata": {
        "colab": {
          "base_uri": "https://localhost:8080/"
        },
        "id": "9vLUCDnnVf4R",
        "outputId": "02210002-8b5e-4d02-e848-26b1ecfe2281"
      },
      "outputs": [
        {
          "name": "stdout",
          "output_type": "stream",
          "text": [
            "Accuracy of the network (with a bias) on the test images: 98.64%\n"
          ]
        }
      ],
      "source": [
        "#train(NET_WITH_BIAS, trainloader, 2)\n",
        "NET_WITH_BIAS.load_state_dict(torch.load('lenet_with_bias.pt'))\n",
        "score = test(NET_WITH_BIAS, testloader)\n",
        "print('Accuracy of the network (with a bias) on the test images: {}%'.format(score))\n",
        "torch.save(NET_WITH_BIAS.state_dict(), 'lenet_with_bias.pt')"
      ]
    },
    {
      "cell_type": "code",
      "execution_count": null,
      "metadata": {
        "colab": {
          "base_uri": "https://localhost:8080/"
        },
        "id": "U_ZiJk6yEEM-",
        "outputId": "3190eda6-9a43-441d-b0cc-abfc6a6d4c6c",
        "scrolled": true
      },
      "outputs": [
        {
          "name": "stdout",
          "output_type": "stream",
          "text": [
            "conv1\n",
            " [register_forward_hook]: Sequential(\n",
            "  (conv): Conv2d(1, 6, kernel_size=(5, 5), stride=(1, 1), bias=False)\n",
            "  (relu): ReLU()\n",
            ")\n",
            "maxpool2\n",
            " [register_forward_hook]: Sequential(\n",
            "  (pool): MaxPool2d(kernel_size=(2, 2), stride=2, padding=0, dilation=1, ceil_mode=False)\n",
            ")\n",
            "conv3\n",
            " [register_forward_hook]: Sequential(\n",
            "  (conv): Conv2d(6, 16, kernel_size=(5, 5), stride=(1, 1), bias=False)\n",
            "  (relu): ReLU()\n",
            ")\n",
            "maxpool4\n",
            " [register_forward_hook]: Sequential(\n",
            "  (pool): MaxPool2d(kernel_size=(2, 2), stride=2, padding=0, dilation=1, ceil_mode=False)\n",
            ")\n",
            "conv5\n",
            " [register_forward_hook]: Sequential(\n",
            "  (conv): Conv2d(16, 120, kernel_size=(5, 5), stride=(1, 1), bias=False)\n",
            "  (relu): ReLU()\n",
            ")\n",
            "fc6\n",
            " [register_forward_hook]: Sequential(\n",
            "  (fc): Linear(in_features=120, out_features=84, bias=False)\n",
            "  (relu): ReLU()\n",
            ")\n",
            "output\n",
            " [register_forward_hook]: Sequential(\n",
            "  (fc): Linear(in_features=84, out_features=10, bias=True)\n",
            ")\n"
          ]
        }
      ],
      "source": [
        "for name, model in NET_WITH_BIAS.named_children():\n",
        "    print(\"{}\\n [register_forward_hook]: {}\".format(name, model))\n",
        "    model.profile_activations = True\n",
        "    model.register_forward_hook(visualize_activations)\n",
        "NET_WITH_BIAS.eval()\n",
        "with torch.no_grad():\n",
        "    input = trainset[0][0].unsqueeze(0)\n",
        "    _ = NET_WITH_BIAS(input.to(device))\n",
        "for name, model in NET_WITH_BIAS.named_children(): model.profile_activations = False "
      ]
    },
    {
      "cell_type": "code",
      "execution_count": null,
      "metadata": {
        "colab": {
          "base_uri": "https://localhost:8080/"
        },
        "id": "yZwk8KLtAUAM",
        "outputId": "41e8ec4a-9958-4a49-9f9d-13239e159437"
      },
      "outputs": [
        {
          "name": "stdout",
          "output_type": "stream",
          "text": [
            "Accuracy of the network on the test images after all the weights are quantized but the bias isn't: 98.66%\n"
          ]
        }
      ],
      "source": [
        "net_with_bias_with_quantized_weights = copy_model(NET_WITH_BIAS)\n",
        "quantize_layer_weights(net_with_bias_with_quantized_weights)\n",
        "\n",
        "score = test(net_with_bias_with_quantized_weights, testloader)\n",
        "print('Accuracy of the network on the test images after all the weights are quantized but the bias isn\\'t: {}%'.format(score))"
      ]
    },
    {
      "cell_type": "code",
      "execution_count": null,
      "metadata": {
        "id": "mO2Gdu_tEZ4v"
      },
      "outputs": [],
      "source": [
        "class NetQuantizedWithBias(NetQuantized):\n",
        "    def __init__(self, net_with_weights_quantized: nn.Module):\n",
        "        super(NetQuantizedWithBias, self).__init__(net_with_weights_quantized)\n",
        "        preceding_scales = [\n",
        "            (self.conv1[0].weight.scale, self.conv1.output_scale),\n",
        "            (self.conv3[0].weight.scale, self.conv3.output_scale),\n",
        "            (self.conv5[0].weight.scale, self.conv5.output_scale),\n",
        "            (self.fc6[0].weight.scale, self.fc6.output_scale),\n",
        "            (self.output[0].weight.scale, self.output.output_scale)\n",
        "        ][:-1]\n",
        "        \n",
        "        self.output[0].bias.data = NetQuantizedWithBias.quantized_bias(\n",
        "            self.output[0].bias.data,\n",
        "            self.output[0].weight.scale,\n",
        "            self.input_scale,\n",
        "            preceding_scales\n",
        "        )\n",
        "\n",
        "        if (self.output[0].bias.data < -2147483648).any() or (self.output[0].bias.data > 2147483647).any():\n",
        "            raise Exception(\"Bias has values which are out of bounds for an 32-bit signed integer\")\n",
        "        if (self.output[0].bias.data != self.output[0].bias.data.round()).any():\n",
        "            raise Exception(\"Bias has non-integer values\")\n",
        "\n",
        "    @staticmethod\n",
        "    def quantized_bias(bias: torch.Tensor, n_w: float, n_initial_input: float, n_s: List[Tuple[float, float]]) -> torch.Tensor:\n",
        "        '''\n",
        "        Quantize the bias so that all values are integers between -2147483648 and 2147483647.\n",
        "        \n",
        "        Parameters:\n",
        "        bias (Tensor): The floating point values of the bias\n",
        "        n_w (float): The scale by which the weights of this layer were multiplied\n",
        "        n_initial_input (float): The scale by which the initial input to the neural network was multiplied\n",
        "        n_s ([(float, float)]): A list of tuples, where each tuple represents the \"weight scale\" and \"output scale\" (in that order) for every preceding layer\n",
        "\n",
        "        Returns:\n",
        "        Tensor: The bias in quantized form, where every value is an integer between -2147483648 and 2147483647.\n",
        "                The \"dtype\" will still be \"float\", but the values themselves should all be integers.\n",
        "        '''\n",
        "\n",
        "        # TODO\n",
        "        scale = n_initial_input * n_w.data.cpu()\n",
        "        for weights_scale, output_scale in n_s:\n",
        "            scale *= weights_scale.data.cpu() * output_scale.cpu()\n",
        "\n",
        "        \n",
        "        return torch.clamp((bias * scale).round(), min=-2147483648, max=2147483647)"
      ]
    },
    {
      "cell_type": "code",
      "execution_count": null,
      "metadata": {
        "colab": {
          "base_uri": "https://localhost:8080/"
        },
        "id": "TA6rXt3Q-zF8",
        "outputId": "fe6b13cb-058a-444f-ce21-9f2b7097338e"
      },
      "outputs": [
        {
          "name": "stdout",
          "output_type": "stream",
          "text": [
            "tensor(127.5000)\n"
          ]
        }
      ],
      "source": [
        "net_quantized_with_bias = NetQuantizedWithBias(net_with_bias_with_quantized_weights)"
      ]
    },
    {
      "cell_type": "code",
      "execution_count": null,
      "metadata": {
        "colab": {
          "base_uri": "https://localhost:8080/"
        },
        "id": "UJvR6Wv_GJJX",
        "outputId": "29a7ed20-ea43-4c21-f129-acd15407429d"
      },
      "outputs": [
        {
          "name": "stdout",
          "output_type": "stream",
          "text": [
            "Accuracy of the network on the test images after all the weights and the bias are quantized: 98.63%\n"
          ]
        }
      ],
      "source": [
        "score = test(net_quantized_with_bias, testloader)\n",
        "print('Accuracy of the network on the test images after all the weights and the bias are quantized: {}%'.format(score))"
      ]
    },
    {
      "cell_type": "markdown",
      "metadata": {
        "id": "dFKPOnHG4_y2"
      },
      "source": [
        "## 3. Quantization Aware Training (QAT)\n",
        "* You should comment out `train(model_fp32_prepared, trainloader, 2)` and uncomment `model_fp32_prepared.load_state_dict(torch.load('model_fp32_prepared.pt'))` before submitting your homework.\n",
        "    * Also, reloading the model from `model_fp32_prepared.pt` can save your time if there is something wrong and you need to restart and run all.\n",
        "\n",
        "### 3.1 Question: \n",
        "Try to trace code and study the quantization-aware training (QAT) from [Quantization — PyTorch 1.13 documentation](https://pytorch.org/docs/stable/quantization.html), then answer the following question.\n",
        "\n",
        "1. How can the QAT achieve a higher accuracy than the post-training quantization (PTQ)?\n",
        "2. What does the function model_fp32_fused do to improve precision and speed?\n",
        "3. Two more layers (quant, dequant) appeared after we quantized our model using the PyTorch QAT method. What do these two layers do?"
      ]
    },
    {
      "attachments": {},
      "cell_type": "markdown",
      "metadata": {
        "id": "_ey6AaTG6n9M"
      },
      "source": [
        "### 3.1 Answers\n",
        "<font color='red'>Write your answers here.</font>\n",
        "1.  Quantization Aware Training (QAT) 在training時會模擬量化的結果，然而 post-training quantization (PTQ) 忽略了量化對模型訓練的準確性，導致前者的accuracy可以higher than後者。但相對來說，PTQ可節省量化訓練的時間和計算成本，且只Quantizes pre-trained model.\n",
        "2. function model_fp32 則是為了改善第一小題的精度與速度，方法上是將相同量化層的操作融合成一個操作， 像是include Conv + Relu 或Conv + Batchnorm + Relu等操作，來達到減少計算時間和內存的使用的方法，並可在量化後保持更高的準確性。\n",
        "3. quant, dequant layer則是為了在QAT的方法中支持量化而添加至Model裡，前者是將input tensor convert floating-point format to a quantized format；而後者是converts output tensor from the quantized format to a floating-point format，兩者目的是用來提高量化數據的準確性"
      ]
    },
    {
      "cell_type": "code",
      "execution_count": null,
      "metadata": {
        "colab": {
          "base_uri": "https://localhost:8080/"
        },
        "id": "2TfUxMTyQs0S",
        "outputId": "abc9d2f4-ffc5-4ab9-9d1d-ee4c457e4894"
      },
      "outputs": [
        {
          "name": "stdout",
          "output_type": "stream",
          "text": [
            "QATNet(\n",
            "  (conv1): Sequential(\n",
            "    (conv): Conv2d(1, 6, kernel_size=(5, 5), stride=(1, 1), bias=False)\n",
            "    (relu): ReLU()\n",
            "  )\n",
            "  (maxpool2): Sequential(\n",
            "    (pool): MaxPool2d(kernel_size=(2, 2), stride=2, padding=0, dilation=1, ceil_mode=False)\n",
            "  )\n",
            "  (conv3): Sequential(\n",
            "    (conv): Conv2d(6, 16, kernel_size=(5, 5), stride=(1, 1), bias=False)\n",
            "    (relu): ReLU()\n",
            "  )\n",
            "  (maxpool4): Sequential(\n",
            "    (pool): MaxPool2d(kernel_size=(2, 2), stride=2, padding=0, dilation=1, ceil_mode=False)\n",
            "  )\n",
            "  (conv5): Sequential(\n",
            "    (conv): Conv2d(16, 120, kernel_size=(5, 5), stride=(1, 1), bias=False)\n",
            "    (relu): ReLU()\n",
            "  )\n",
            "  (fc6): Sequential(\n",
            "    (fc): Linear(in_features=120, out_features=84, bias=False)\n",
            "    (relu): ReLU()\n",
            "  )\n",
            "  (output): Sequential(\n",
            "    (fc): Linear(in_features=84, out_features=10, bias=True)\n",
            "  )\n",
            "  (quant): QuantStub()\n",
            "  (dequant): DeQuantStub()\n",
            ")\n",
            "QATNet(\n",
            "  (conv1): Sequential(\n",
            "    (conv): Conv2d(1, 6, kernel_size=(5, 5), stride=(1, 1), bias=False)\n",
            "    (relu): ReLU()\n",
            "  )\n",
            "  (maxpool2): Sequential(\n",
            "    (pool): MaxPool2d(kernel_size=(2, 2), stride=2, padding=0, dilation=1, ceil_mode=False)\n",
            "  )\n",
            "  (conv3): Sequential(\n",
            "    (conv): Conv2d(6, 16, kernel_size=(5, 5), stride=(1, 1), bias=False)\n",
            "    (relu): ReLU()\n",
            "  )\n",
            "  (maxpool4): Sequential(\n",
            "    (pool): MaxPool2d(kernel_size=(2, 2), stride=2, padding=0, dilation=1, ceil_mode=False)\n",
            "  )\n",
            "  (conv5): Sequential(\n",
            "    (conv): Conv2d(16, 120, kernel_size=(5, 5), stride=(1, 1), bias=False)\n",
            "    (relu): ReLU()\n",
            "  )\n",
            "  (fc6): Sequential(\n",
            "    (fc): Linear(in_features=120, out_features=84, bias=False)\n",
            "    (relu): ReLU()\n",
            "  )\n",
            "  (output): Sequential(\n",
            "    (fc): Linear(in_features=84, out_features=10, bias=True)\n",
            "  )\n",
            "  (quant): QuantStub()\n",
            "  (dequant): DeQuantStub()\n",
            ")\n",
            "QConfig(activation=functools.partial(<class 'torch.ao.quantization.fake_quantize.FusedMovingAvgObsFakeQuantize'>, observer=<class 'torch.ao.quantization.observer.MovingAverageMinMaxObserver'>, quant_min=0, quant_max=255, reduce_range=True){}, weight=functools.partial(<class 'torch.ao.quantization.fake_quantize.FusedMovingAvgObsFakeQuantize'>, observer=<class 'torch.ao.quantization.observer.MovingAveragePerChannelMinMaxObserver'>, quant_min=-128, quant_max=127, dtype=torch.qint8, qscheme=torch.per_channel_symmetric){})\n"
          ]
        },
        {
          "name": "stderr",
          "output_type": "stream",
          "text": [
            "/usr/local/lib/python3.8/dist-packages/torch/ao/quantization/observer.py:214: UserWarning: Please use quant_min and quant_max to specify the range for observers.                     reduce_range will be deprecated in a future release of PyTorch.\n",
            "  warnings.warn(\n",
            "/usr/local/lib/python3.8/dist-packages/torch/ao/quantization/fake_quantize.py:309: UserWarning: _aminmax is deprecated as of PyTorch 1.11 and will be removed in a future release. Use aminmax instead. This warning will only appear once per process. (Triggered internally at ../aten/src/ATen/native/ReduceAllOps.cpp:45.)\n",
            "  return torch.fused_moving_avg_obs_fake_quant(\n",
            "/usr/local/lib/python3.8/dist-packages/torch/ao/quantization/fake_quantize.py:309: UserWarning: _aminmax is deprecated as of PyTorch 1.11 and will be removed in a future release. Use aminmax instead. This warning will only appear once per process. (Triggered internally at ../aten/src/ATen/native/TensorCompare.cpp:568.)\n",
            "  return torch.fused_moving_avg_obs_fake_quant(\n"
          ]
        },
        {
          "name": "stdout",
          "output_type": "stream",
          "text": [
            "[1,  2000] loss: 0.596\n",
            "[1,  4000] loss: 0.134\n",
            "[1,  6000] loss: 0.099\n",
            "[1,  8000] loss: 0.091\n",
            "[1, 10000] loss: 0.082\n",
            "[1, 12000] loss: 0.085\n",
            "[1, 14000] loss: 0.078\n",
            "97.9\n",
            "[2,  2000] loss: 0.059\n",
            "[2,  4000] loss: 0.062\n",
            "[2,  6000] loss: 0.066\n",
            "[2,  8000] loss: 0.061\n",
            "[2, 10000] loss: 0.060\n",
            "[2, 12000] loss: 0.057\n",
            "[2, 14000] loss: 0.057\n",
            "98.08\n",
            "Finished Training\n",
            "Accuracy of the model_fp32_prepared: 98.07%\n"
          ]
        }
      ],
      "source": [
        "class QATNet(NetWithBias):\n",
        "    def __init__(self):\n",
        "        super().__init__()\n",
        "        # QuantStub converts tensors from floating point to quantized\n",
        "        self.quant = torch.quantization.QuantStub()\n",
        "        # DeQuantStub converts tensors from quantized to floating point\n",
        "        self.dequant = torch.quantization.DeQuantStub()\n",
        "\n",
        "    def forward(self, x):\n",
        "        x = self.quant(x)\n",
        "        x = super().forward(x)\n",
        "        x = self.dequant(x)\n",
        "        return x\n",
        "    \n",
        "MODEL_FP32 = QATNet().to(device)\n",
        "print(MODEL_FP32)\n",
        "\n",
        "MODEL_FP32.eval()\n",
        "print(MODEL_FP32)\n",
        "\n",
        "MODEL_FP32.qconfig = torch.quantization.get_default_qat_qconfig('fbgemm')\n",
        "MODEL_FP32_FUSED = torch.quantization.fuse_modules(MODEL_FP32,\n",
        "    [['conv1.conv', 'conv1.relu'], \n",
        "     ['conv3.conv', 'conv3.relu'],\n",
        "     ['conv5.conv', 'conv5.relu'],\n",
        "     ['fc6.fc', 'fc6.relu'],\n",
        "    ])\n",
        "MODEL_FP32_FUSED = MODEL_FP32\n",
        "# Specify quantization configuration\n",
        "MODEL_FP32_FUSED.qconfig = torch.ao.quantization.get_default_qat_qconfig('fbgemm')\n",
        "print(MODEL_FP32_FUSED.qconfig)\n",
        "\n",
        "model_fp32_prepared = torch.quantization.prepare_qat(MODEL_FP32_FUSED.train())\n",
        "\n",
        "#train(model_fp32_prepared, trainloader, 2)\n",
        "model_fp32_prepared.load_state_dict(torch.load('model_fp32_prepared.pt'))\n",
        "score = test(model_fp32_prepared, testloader)\n",
        "print('Accuracy of the model_fp32_prepared: {}%'.format(score))\n",
        "torch.save(model_fp32_prepared.state_dict(), 'model_fp32_prepared.pt')"
      ]
    },
    {
      "cell_type": "code",
      "execution_count": null,
      "metadata": {
        "id": "Qdw9gz9kQs0T"
      },
      "outputs": [],
      "source": [
        "# model_fp32_prepared"
      ]
    },
    {
      "cell_type": "code",
      "execution_count": null,
      "metadata": {
        "id": "d_Tbb3tlQs0T"
      },
      "outputs": [],
      "source": [
        "model_fp32_prepared = model_fp32_prepared.to('cpu')\n",
        "model_fp32_prepared.eval()\n",
        "qat = torch.quantization.convert(model_fp32_prepared, inplace=False)\n"
      ]
    },
    {
      "cell_type": "markdown",
      "metadata": {
        "id": "U_W-RCmHjlkg"
      },
      "source": [
        "# Extract the input and output of the quantized model"
      ]
    },
    {
      "cell_type": "code",
      "execution_count": null,
      "metadata": {
        "id": "AllumB6-YI9B"
      },
      "outputs": [],
      "source": [
        "# copy the model with bias quantized model and save the weights\n",
        "inference_model = copy_model(qat)"
      ]
    },
    {
      "cell_type": "code",
      "execution_count": null,
      "metadata": {
        "colab": {
          "base_uri": "https://localhost:8080/"
        },
        "id": "jWPqoj8tf0Rr",
        "outputId": "9dc84b74-1736-4098-af45-0a3bde849dee"
      },
      "outputs": [
        {
          "name": "stdout",
          "output_type": "stream",
          "text": [
            "Accuracy of the network after quantizing both weights and activations: 98.08%\n"
          ]
        }
      ],
      "source": [
        "# Use accuray to make sure it is same model\n",
        "score = test(inference_model, testloader, None, torch.device('cpu'))\n",
        "print('Accuracy of the network after quantizing both weights and activations: {}%'.format(score))"
      ]
    },
    {
      "cell_type": "markdown",
      "metadata": {
        "id": "5TfpcnC60_g4"
      },
      "source": [
        "Use an image as an input of the activations，and choose 100 images to generate patterns for our homework 2."
      ]
    },
    {
      "cell_type": "code",
      "execution_count": null,
      "metadata": {
        "id": "CByZgw-ftMBD"
      },
      "outputs": [],
      "source": [
        "# random choose images as the input and get the output\n",
        "np.random.seed(0)\n",
        "index = np.random.randint(0,len(trainset), size=100)\n",
        "index = range(100)"
      ]
    },
    {
      "cell_type": "markdown",
      "metadata": {
        "id": "x9M4QXt60WmL"
      },
      "source": [
        "Save the activations of input and output to the CSV format."
      ]
    },
    {
      "cell_type": "code",
      "execution_count": null,
      "metadata": {
        "id": "WSIdYFyZshFj"
      },
      "outputs": [],
      "source": [
        "import os \n",
        "import zipfile\n",
        "# It is easier to download all the files with zip\n",
        "zf = zipfile.ZipFile('parameters.zip', 'w', zipfile.ZIP_DEFLATED)\n",
        "\n",
        "if not os.path.exists('./activations'):\n",
        "    os.mkdir('./activations')"
      ]
    },
    {
      "cell_type": "code",
      "execution_count": null,
      "metadata": {
        "id": "dWkY6fZ_Qs0T"
      },
      "outputs": [],
      "source": [
        "for ind in range(100):\n",
        "    if not os.path.exists('./activations/img{}'.format(ind)):\n",
        "        os.mkdir('./activations/img{}'.format(ind))\n",
        "\n",
        "    for name, model in qat.named_children():\n",
        "        model.profile_activations = True\n",
        "        model.register_forward_hook(visualize_activations)\n",
        "    input0, label = testset[index[ind]]\n",
        "    input = input0.reshape(1, 1, 32, 32)\n",
        "    output = qat(input)\n",
        "    for name, model in qat.named_children(): model.profile_activations = False \n",
        "    \n",
        "\n",
        "    np.savetxt('./activations/img{}/input.csv'.format(ind), input.cpu().data.numpy().reshape(-1), delimiter=',')\n",
        "    np.savetxt('./activations/img{}/output.csv'.format(ind), output.cpu().data.numpy().reshape(-1).astype(int), delimiter=',')\n",
        "    zf.write('./activations/img{}/input.csv'.format(ind))\n",
        "    zf.write('./activations/img{}/output.csv'.format(ind))\n",
        "    \n",
        "    opDict = {\n",
        "        'conv1': (qat.conv1.inAct, qat.conv1.outAct),\n",
        "        'maxpool2': (qat.maxpool2.inAct, qat.maxpool2.outAct),\n",
        "        'conv3': (qat.conv3.inAct, qat.conv3.outAct),\n",
        "        'maxpool4': (qat.maxpool4.inAct, qat.maxpool4.outAct),\n",
        "        'conv5': (qat.conv5.inAct, qat.conv5.outAct),\n",
        "        'fc6': (qat.fc6.inAct, qat.fc6.outAct),\n",
        "        'quant': (qat.quant.inAct, qat.quant.outAct),\n",
        "        'dequant': (qat.dequant.inAct, qat.dequant.outAct),\n",
        "        'output': (qat.output.inAct, qat.output.outAct)\n",
        "    }\n",
        "    \n",
        "    for key in opDict:\n",
        "        if not os.path.exists('./activations/img{}/{}'.format(ind, key)):\n",
        "            os.mkdir('./activations/img{}/{}'.format(ind, key))\n",
        "        if(opDict[key][0].type()== \"torch.quantized.QInt8Tensor\" or opDict[key][0].type()== \"torch.quantized.QUInt8Tensor\"):\n",
        "            temp = opDict[key][0].cpu().int_repr()\n",
        "        else:\n",
        "            temp = opDict[key][0].cpu()\n",
        "        if(opDict[key][1].type()== \"torch.quantized.QInt8Tensor\" or opDict[key][1].type()== \"torch.quantized.QUInt8Tensor\"):\n",
        "            temp1 = opDict[key][1].cpu().int_repr()\n",
        "        else:\n",
        "            temp1 = opDict[key][1].cpu()                \n",
        "        np.savetxt('./activations/img{}/{}/input.csv'.format(ind, key), temp.data.numpy().reshape(-1).astype(float), delimiter=',')\n",
        "        np.savetxt('./activations/img{}/{}/output.csv'.format(ind, key), temp1.cpu().data.numpy().reshape(-1).astype(float), delimiter=',')\n",
        "        zf.write('./activations/img{}/{}/input.csv'.format(ind, key))\n",
        "        zf.write('./activations/img{}/{}/output.csv'.format(ind, key))"
      ]
    },
    {
      "cell_type": "markdown",
      "metadata": {
        "id": "5jo_TlzE1dqy"
      },
      "source": [
        "Save each layer's weights, zero point and scaling factor to the CSV format."
      ]
    },
    {
      "cell_type": "code",
      "execution_count": null,
      "metadata": {
        "id": "27MD_hJUzlnf"
      },
      "outputs": [],
      "source": [
        "if not os.path.exists('./weights'):\n",
        "    os.mkdir('./weights')\n",
        "# TA forgot these lines QQ\n",
        "if not os.path.exists('./weights/weight'):\n",
        "    os.mkdir('./weights/weight')  \n",
        "if not os.path.exists('./weights/scale'):\n",
        "    os.mkdir('./weights/scale')  \n",
        "if not os.path.exists('./weights/zero_point'):\n",
        "    os.mkdir('./weights/zero_point') \n",
        "# -----------------------------\n",
        "for name, weights in qat.state_dict().items():\n",
        "    name_split = name.split('.')\n",
        "    if weights!= None:\n",
        "        if name_split[-2] != \"_packed_params\":\n",
        "            if(weights.type()== \"torch.quantized.QInt8Tensor\" or weights.type()== \"torch.quantized.QUInt8Tensor\"):\n",
        "                np.savetxt('./weights/weight/%s.csv' %(name) , weights.cpu().int_repr().numpy().reshape(-1).astype(float), delimiter=',')\n",
        "                zf.write('./weights/weight/%s.csv' %(name))\n",
        "\n",
        "                np.savetxt('./weights/weight/%s.scale.csv' %(name) , weights.q_per_channel_scales().numpy().reshape(-1).astype(float), delimiter=',')\n",
        "                zf.write('./weights/weight/%s.scale.csv' %(name))\n",
        "\n",
        "                np.savetxt('./weights/weight/%s.zero_point.csv' %(name) , weights.q_per_channel_zero_points().cpu().numpy().reshape(-1).astype(float), delimiter=',')\n",
        "                zf.write('./weights/weight/%s.zero_point.csv' %(name))\n",
        "            else:\n",
        "                np.savetxt('./weights/%s/%s.csv'%(name_split[-1],name) , weights.cpu().numpy().reshape(-1).astype(float), delimiter=',')\n",
        "                zf.write('./weights/%s/%s.csv'%(name_split[-1],name))\n",
        "\n",
        "          \n",
        "          \n",
        "        elif name_split[-1] == \"_packed_params\":\n",
        "            if not os.path.exists('./weights/_packed_params'):\n",
        "                os.mkdir('./weights/_packed_params')\n",
        "            weight, bias = weights\n",
        "            name = name_split[0]+\".\"+name_split[1]\n",
        "            if(weight.type()== \"torch.quantized.QInt8Tensor\" or weight.type()== \"torch.quantized.QUInt8Tensor\"):\n",
        "                np.savetxt('./weights/weight/%s.weight.csv' %(name)  , weight.cpu().int_repr().numpy().reshape(-1).astype(float), delimiter=',')\n",
        "                zf.write('./weights/weight/%s.weight.csv' %(name))\n",
        "\n",
        "                np.savetxt('./weights/weight/%s.weight.scale.csv' %(name) , weight.q_per_channel_scales().cpu().numpy().reshape(-1).astype(float), delimiter=',')\n",
        "                zf.write('./weights/weight/%s.weight.scale.csv' %(name))\n",
        "\n",
        "                np.savetxt('./weights/weight/%s.weight.zero_point.csv' %(name) , weight.q_per_channel_zero_points().cpu().numpy().reshape(-1).astype(float), delimiter=',')\n",
        "                zf.write('./weights/weight/%s.weight.zero_point.csv' %(name))\n",
        "            \n",
        "            if bias is not None:\n",
        "                \n",
        "                if(bias.type()== \"torch.quantized.QInt8Tensor\" or bias.type()== \"torch.quantized.QUInt8Tensor\"):\n",
        "                    np.savetxt('./weights/weight/%s.bias.csv' %(name) , bias.cpu().int_repr().numpy().reshape(-1).astype(float), delimiter=',')\n",
        "                    zf.write('./weights/weight/%s.bias.csv' %(name))\n",
        "                else:\n",
        "                    np.savetxt('./weights/weight/%s.bias.csv' %(name) , bias.cpu().detach().numpy().reshape(-1).astype(float), delimiter=',')\n",
        "                    zf.write('./weights/weight/%s.bias.csv' %(name))\n"
      ]
    },
    {
      "cell_type": "markdown",
      "metadata": {
        "id": "HbUYA1VpKLAB"
      },
      "source": [
        "Save the zip file."
      ]
    },
    {
      "cell_type": "code",
      "execution_count": null,
      "metadata": {
        "id": "BlOLRLdTJqcm"
      },
      "outputs": [],
      "source": [
        "zf.close()"
      ]
    },
    {
      "cell_type": "code",
      "execution_count": null,
      "metadata": {
        "id": "kINR9vRtURD8"
      },
      "outputs": [],
      "source": []
    }
  ],
  "metadata": {
    "accelerator": "GPU",
    "colab": {
      "provenance": []
    },
    "kernelspec": {
      "display_name": "Python 3",
      "language": "python",
      "name": "python3"
    },
    "language_info": {
      "codemirror_mode": {
        "name": "ipython",
        "version": 3
      },
      "file_extension": ".py",
      "mimetype": "text/x-python",
      "name": "python",
      "nbconvert_exporter": "python",
      "pygments_lexer": "ipython3",
      "version": "3.10.4"
    },
    "vscode": {
      "interpreter": {
        "hash": "aa3a4132232ef57bd967da4f502201fad326f014cc6ad01b5db327eca3c579df"
      }
    },
    "widgets": {
      "application/vnd.jupyter.widget-state+json": {
        "01f8d92d260941699dc3fc2febbac395": {
          "model_module": "@jupyter-widgets/controls",
          "model_module_version": "1.5.0",
          "model_name": "HTMLModel",
          "state": {
            "_dom_classes": [],
            "_model_module": "@jupyter-widgets/controls",
            "_model_module_version": "1.5.0",
            "_model_name": "HTMLModel",
            "_view_count": null,
            "_view_module": "@jupyter-widgets/controls",
            "_view_module_version": "1.5.0",
            "_view_name": "HTMLView",
            "description": "",
            "description_tooltip": null,
            "layout": "IPY_MODEL_59b8fc3b3e0b4a9c951823abf4935406",
            "placeholder": "​",
            "style": "IPY_MODEL_e201ea0593874bfd9951679a06d19e41",
            "value": " 4542/4542 [00:00&lt;00:00, 171368.56it/s]"
          }
        },
        "057113ef050f4defbb5752f8d66eaebb": {
          "model_module": "@jupyter-widgets/controls",
          "model_module_version": "1.5.0",
          "model_name": "DescriptionStyleModel",
          "state": {
            "_model_module": "@jupyter-widgets/controls",
            "_model_module_version": "1.5.0",
            "_model_name": "DescriptionStyleModel",
            "_view_count": null,
            "_view_module": "@jupyter-widgets/base",
            "_view_module_version": "1.2.0",
            "_view_name": "StyleView",
            "description_width": ""
          }
        },
        "070813d7d7cb4ad49ad5bc5d816993f5": {
          "model_module": "@jupyter-widgets/controls",
          "model_module_version": "1.5.0",
          "model_name": "HBoxModel",
          "state": {
            "_dom_classes": [],
            "_model_module": "@jupyter-widgets/controls",
            "_model_module_version": "1.5.0",
            "_model_name": "HBoxModel",
            "_view_count": null,
            "_view_module": "@jupyter-widgets/controls",
            "_view_module_version": "1.5.0",
            "_view_name": "HBoxView",
            "box_style": "",
            "children": [
              "IPY_MODEL_e2601786f9fc42dead127da726667fae",
              "IPY_MODEL_2ef62e192afb42f5bbe308c7a8d1eaaf",
              "IPY_MODEL_65db77dca8124395bfa805e3409eaed3"
            ],
            "layout": "IPY_MODEL_fe63d140bff547ef93864bd712634e69"
          }
        },
        "105696d136034243ad58f9c9d05570aa": {
          "model_module": "@jupyter-widgets/base",
          "model_module_version": "1.2.0",
          "model_name": "LayoutModel",
          "state": {
            "_model_module": "@jupyter-widgets/base",
            "_model_module_version": "1.2.0",
            "_model_name": "LayoutModel",
            "_view_count": null,
            "_view_module": "@jupyter-widgets/base",
            "_view_module_version": "1.2.0",
            "_view_name": "LayoutView",
            "align_content": null,
            "align_items": null,
            "align_self": null,
            "border": null,
            "bottom": null,
            "display": null,
            "flex": null,
            "flex_flow": null,
            "grid_area": null,
            "grid_auto_columns": null,
            "grid_auto_flow": null,
            "grid_auto_rows": null,
            "grid_column": null,
            "grid_gap": null,
            "grid_row": null,
            "grid_template_areas": null,
            "grid_template_columns": null,
            "grid_template_rows": null,
            "height": null,
            "justify_content": null,
            "justify_items": null,
            "left": null,
            "margin": null,
            "max_height": null,
            "max_width": null,
            "min_height": null,
            "min_width": null,
            "object_fit": null,
            "object_position": null,
            "order": null,
            "overflow": null,
            "overflow_x": null,
            "overflow_y": null,
            "padding": null,
            "right": null,
            "top": null,
            "visibility": null,
            "width": null
          }
        },
        "2640da6db1044caf8bb53e2ce3192af9": {
          "model_module": "@jupyter-widgets/controls",
          "model_module_version": "1.5.0",
          "model_name": "DescriptionStyleModel",
          "state": {
            "_model_module": "@jupyter-widgets/controls",
            "_model_module_version": "1.5.0",
            "_model_name": "DescriptionStyleModel",
            "_view_count": null,
            "_view_module": "@jupyter-widgets/base",
            "_view_module_version": "1.2.0",
            "_view_name": "StyleView",
            "description_width": ""
          }
        },
        "286cb03b88ef44e7b23adb47b8561cb6": {
          "model_module": "@jupyter-widgets/controls",
          "model_module_version": "1.5.0",
          "model_name": "HTMLModel",
          "state": {
            "_dom_classes": [],
            "_model_module": "@jupyter-widgets/controls",
            "_model_module_version": "1.5.0",
            "_model_name": "HTMLModel",
            "_view_count": null,
            "_view_module": "@jupyter-widgets/controls",
            "_view_module_version": "1.5.0",
            "_view_name": "HTMLView",
            "description": "",
            "description_tooltip": null,
            "layout": "IPY_MODEL_fd9f7f5f65ae41829a19873af468b360",
            "placeholder": "​",
            "style": "IPY_MODEL_dccdbfa247984559b244db981d6f5975",
            "value": "100%"
          }
        },
        "2ed8a175f26c496e9981c83efcc09e31": {
          "model_module": "@jupyter-widgets/controls",
          "model_module_version": "1.5.0",
          "model_name": "HBoxModel",
          "state": {
            "_dom_classes": [],
            "_model_module": "@jupyter-widgets/controls",
            "_model_module_version": "1.5.0",
            "_model_name": "HBoxModel",
            "_view_count": null,
            "_view_module": "@jupyter-widgets/controls",
            "_view_module_version": "1.5.0",
            "_view_name": "HBoxView",
            "box_style": "",
            "children": [
              "IPY_MODEL_9e4b7a912487416b918e8b659df936d4",
              "IPY_MODEL_ec35abbff866470a8a776b922f058110",
              "IPY_MODEL_c1369267e55b4969af871be9cc0d4f6f"
            ],
            "layout": "IPY_MODEL_52eae86cef4941719e79bc5458e02c0f"
          }
        },
        "2ef62e192afb42f5bbe308c7a8d1eaaf": {
          "model_module": "@jupyter-widgets/controls",
          "model_module_version": "1.5.0",
          "model_name": "FloatProgressModel",
          "state": {
            "_dom_classes": [],
            "_model_module": "@jupyter-widgets/controls",
            "_model_module_version": "1.5.0",
            "_model_name": "FloatProgressModel",
            "_view_count": null,
            "_view_module": "@jupyter-widgets/controls",
            "_view_module_version": "1.5.0",
            "_view_name": "ProgressView",
            "bar_style": "success",
            "description": "",
            "description_tooltip": null,
            "layout": "IPY_MODEL_7fbfa04d79ae4222b6b577d5747a3d12",
            "max": 28881,
            "min": 0,
            "orientation": "horizontal",
            "style": "IPY_MODEL_c73174d798a24e2ead07d2fa81e1f636",
            "value": 28881
          }
        },
        "46da85b6228646a48ae1fe90e0136ed2": {
          "model_module": "@jupyter-widgets/base",
          "model_module_version": "1.2.0",
          "model_name": "LayoutModel",
          "state": {
            "_model_module": "@jupyter-widgets/base",
            "_model_module_version": "1.2.0",
            "_model_name": "LayoutModel",
            "_view_count": null,
            "_view_module": "@jupyter-widgets/base",
            "_view_module_version": "1.2.0",
            "_view_name": "LayoutView",
            "align_content": null,
            "align_items": null,
            "align_self": null,
            "border": null,
            "bottom": null,
            "display": null,
            "flex": null,
            "flex_flow": null,
            "grid_area": null,
            "grid_auto_columns": null,
            "grid_auto_flow": null,
            "grid_auto_rows": null,
            "grid_column": null,
            "grid_gap": null,
            "grid_row": null,
            "grid_template_areas": null,
            "grid_template_columns": null,
            "grid_template_rows": null,
            "height": null,
            "justify_content": null,
            "justify_items": null,
            "left": null,
            "margin": null,
            "max_height": null,
            "max_width": null,
            "min_height": null,
            "min_width": null,
            "object_fit": null,
            "object_position": null,
            "order": null,
            "overflow": null,
            "overflow_x": null,
            "overflow_y": null,
            "padding": null,
            "right": null,
            "top": null,
            "visibility": null,
            "width": null
          }
        },
        "4c3207891a244e6492319ae3f47b3285": {
          "model_module": "@jupyter-widgets/controls",
          "model_module_version": "1.5.0",
          "model_name": "ProgressStyleModel",
          "state": {
            "_model_module": "@jupyter-widgets/controls",
            "_model_module_version": "1.5.0",
            "_model_name": "ProgressStyleModel",
            "_view_count": null,
            "_view_module": "@jupyter-widgets/base",
            "_view_module_version": "1.2.0",
            "_view_name": "StyleView",
            "bar_color": null,
            "description_width": ""
          }
        },
        "52eae86cef4941719e79bc5458e02c0f": {
          "model_module": "@jupyter-widgets/base",
          "model_module_version": "1.2.0",
          "model_name": "LayoutModel",
          "state": {
            "_model_module": "@jupyter-widgets/base",
            "_model_module_version": "1.2.0",
            "_model_name": "LayoutModel",
            "_view_count": null,
            "_view_module": "@jupyter-widgets/base",
            "_view_module_version": "1.2.0",
            "_view_name": "LayoutView",
            "align_content": null,
            "align_items": null,
            "align_self": null,
            "border": null,
            "bottom": null,
            "display": null,
            "flex": null,
            "flex_flow": null,
            "grid_area": null,
            "grid_auto_columns": null,
            "grid_auto_flow": null,
            "grid_auto_rows": null,
            "grid_column": null,
            "grid_gap": null,
            "grid_row": null,
            "grid_template_areas": null,
            "grid_template_columns": null,
            "grid_template_rows": null,
            "height": null,
            "justify_content": null,
            "justify_items": null,
            "left": null,
            "margin": null,
            "max_height": null,
            "max_width": null,
            "min_height": null,
            "min_width": null,
            "object_fit": null,
            "object_position": null,
            "order": null,
            "overflow": null,
            "overflow_x": null,
            "overflow_y": null,
            "padding": null,
            "right": null,
            "top": null,
            "visibility": null,
            "width": null
          }
        },
        "571736b3ce1849998e6612cf8adf21b7": {
          "model_module": "@jupyter-widgets/controls",
          "model_module_version": "1.5.0",
          "model_name": "DescriptionStyleModel",
          "state": {
            "_model_module": "@jupyter-widgets/controls",
            "_model_module_version": "1.5.0",
            "_model_name": "DescriptionStyleModel",
            "_view_count": null,
            "_view_module": "@jupyter-widgets/base",
            "_view_module_version": "1.2.0",
            "_view_name": "StyleView",
            "description_width": ""
          }
        },
        "59b8fc3b3e0b4a9c951823abf4935406": {
          "model_module": "@jupyter-widgets/base",
          "model_module_version": "1.2.0",
          "model_name": "LayoutModel",
          "state": {
            "_model_module": "@jupyter-widgets/base",
            "_model_module_version": "1.2.0",
            "_model_name": "LayoutModel",
            "_view_count": null,
            "_view_module": "@jupyter-widgets/base",
            "_view_module_version": "1.2.0",
            "_view_name": "LayoutView",
            "align_content": null,
            "align_items": null,
            "align_self": null,
            "border": null,
            "bottom": null,
            "display": null,
            "flex": null,
            "flex_flow": null,
            "grid_area": null,
            "grid_auto_columns": null,
            "grid_auto_flow": null,
            "grid_auto_rows": null,
            "grid_column": null,
            "grid_gap": null,
            "grid_row": null,
            "grid_template_areas": null,
            "grid_template_columns": null,
            "grid_template_rows": null,
            "height": null,
            "justify_content": null,
            "justify_items": null,
            "left": null,
            "margin": null,
            "max_height": null,
            "max_width": null,
            "min_height": null,
            "min_width": null,
            "object_fit": null,
            "object_position": null,
            "order": null,
            "overflow": null,
            "overflow_x": null,
            "overflow_y": null,
            "padding": null,
            "right": null,
            "top": null,
            "visibility": null,
            "width": null
          }
        },
        "5fa3afd57bb24a6f8e0411f626d07b37": {
          "model_module": "@jupyter-widgets/controls",
          "model_module_version": "1.5.0",
          "model_name": "HBoxModel",
          "state": {
            "_dom_classes": [],
            "_model_module": "@jupyter-widgets/controls",
            "_model_module_version": "1.5.0",
            "_model_name": "HBoxModel",
            "_view_count": null,
            "_view_module": "@jupyter-widgets/controls",
            "_view_module_version": "1.5.0",
            "_view_name": "HBoxView",
            "box_style": "",
            "children": [
              "IPY_MODEL_286cb03b88ef44e7b23adb47b8561cb6",
              "IPY_MODEL_ba729bfc81bc4e64b3ff463c77507da4",
              "IPY_MODEL_01f8d92d260941699dc3fc2febbac395"
            ],
            "layout": "IPY_MODEL_c408b22ecd984151ae5963d13e09a227"
          }
        },
        "65db77dca8124395bfa805e3409eaed3": {
          "model_module": "@jupyter-widgets/controls",
          "model_module_version": "1.5.0",
          "model_name": "HTMLModel",
          "state": {
            "_dom_classes": [],
            "_model_module": "@jupyter-widgets/controls",
            "_model_module_version": "1.5.0",
            "_model_name": "HTMLModel",
            "_view_count": null,
            "_view_module": "@jupyter-widgets/controls",
            "_view_module_version": "1.5.0",
            "_view_name": "HTMLView",
            "description": "",
            "description_tooltip": null,
            "layout": "IPY_MODEL_46da85b6228646a48ae1fe90e0136ed2",
            "placeholder": "​",
            "style": "IPY_MODEL_2640da6db1044caf8bb53e2ce3192af9",
            "value": " 28881/28881 [00:00&lt;00:00, 870984.79it/s]"
          }
        },
        "6fa38882cd794aaf9455a82f938a079b": {
          "model_module": "@jupyter-widgets/base",
          "model_module_version": "1.2.0",
          "model_name": "LayoutModel",
          "state": {
            "_model_module": "@jupyter-widgets/base",
            "_model_module_version": "1.2.0",
            "_model_name": "LayoutModel",
            "_view_count": null,
            "_view_module": "@jupyter-widgets/base",
            "_view_module_version": "1.2.0",
            "_view_name": "LayoutView",
            "align_content": null,
            "align_items": null,
            "align_self": null,
            "border": null,
            "bottom": null,
            "display": null,
            "flex": null,
            "flex_flow": null,
            "grid_area": null,
            "grid_auto_columns": null,
            "grid_auto_flow": null,
            "grid_auto_rows": null,
            "grid_column": null,
            "grid_gap": null,
            "grid_row": null,
            "grid_template_areas": null,
            "grid_template_columns": null,
            "grid_template_rows": null,
            "height": null,
            "justify_content": null,
            "justify_items": null,
            "left": null,
            "margin": null,
            "max_height": null,
            "max_width": null,
            "min_height": null,
            "min_width": null,
            "object_fit": null,
            "object_position": null,
            "order": null,
            "overflow": null,
            "overflow_x": null,
            "overflow_y": null,
            "padding": null,
            "right": null,
            "top": null,
            "visibility": null,
            "width": null
          }
        },
        "7a1d0aca506343638ee5361be3f62d99": {
          "model_module": "@jupyter-widgets/controls",
          "model_module_version": "1.5.0",
          "model_name": "FloatProgressModel",
          "state": {
            "_dom_classes": [],
            "_model_module": "@jupyter-widgets/controls",
            "_model_module_version": "1.5.0",
            "_model_name": "FloatProgressModel",
            "_view_count": null,
            "_view_module": "@jupyter-widgets/controls",
            "_view_module_version": "1.5.0",
            "_view_name": "ProgressView",
            "bar_style": "success",
            "description": "",
            "description_tooltip": null,
            "layout": "IPY_MODEL_f8d9cbe445f746bdb22c96ad9b441118",
            "max": 1648877,
            "min": 0,
            "orientation": "horizontal",
            "style": "IPY_MODEL_c3563e566ab34e31a68dccfc3760d7b8",
            "value": 1648877
          }
        },
        "7fbfa04d79ae4222b6b577d5747a3d12": {
          "model_module": "@jupyter-widgets/base",
          "model_module_version": "1.2.0",
          "model_name": "LayoutModel",
          "state": {
            "_model_module": "@jupyter-widgets/base",
            "_model_module_version": "1.2.0",
            "_model_name": "LayoutModel",
            "_view_count": null,
            "_view_module": "@jupyter-widgets/base",
            "_view_module_version": "1.2.0",
            "_view_name": "LayoutView",
            "align_content": null,
            "align_items": null,
            "align_self": null,
            "border": null,
            "bottom": null,
            "display": null,
            "flex": null,
            "flex_flow": null,
            "grid_area": null,
            "grid_auto_columns": null,
            "grid_auto_flow": null,
            "grid_auto_rows": null,
            "grid_column": null,
            "grid_gap": null,
            "grid_row": null,
            "grid_template_areas": null,
            "grid_template_columns": null,
            "grid_template_rows": null,
            "height": null,
            "justify_content": null,
            "justify_items": null,
            "left": null,
            "margin": null,
            "max_height": null,
            "max_width": null,
            "min_height": null,
            "min_width": null,
            "object_fit": null,
            "object_position": null,
            "order": null,
            "overflow": null,
            "overflow_x": null,
            "overflow_y": null,
            "padding": null,
            "right": null,
            "top": null,
            "visibility": null,
            "width": null
          }
        },
        "8c0c97cb062d4127814af35e255ed058": {
          "model_module": "@jupyter-widgets/base",
          "model_module_version": "1.2.0",
          "model_name": "LayoutModel",
          "state": {
            "_model_module": "@jupyter-widgets/base",
            "_model_module_version": "1.2.0",
            "_model_name": "LayoutModel",
            "_view_count": null,
            "_view_module": "@jupyter-widgets/base",
            "_view_module_version": "1.2.0",
            "_view_name": "LayoutView",
            "align_content": null,
            "align_items": null,
            "align_self": null,
            "border": null,
            "bottom": null,
            "display": null,
            "flex": null,
            "flex_flow": null,
            "grid_area": null,
            "grid_auto_columns": null,
            "grid_auto_flow": null,
            "grid_auto_rows": null,
            "grid_column": null,
            "grid_gap": null,
            "grid_row": null,
            "grid_template_areas": null,
            "grid_template_columns": null,
            "grid_template_rows": null,
            "height": null,
            "justify_content": null,
            "justify_items": null,
            "left": null,
            "margin": null,
            "max_height": null,
            "max_width": null,
            "min_height": null,
            "min_width": null,
            "object_fit": null,
            "object_position": null,
            "order": null,
            "overflow": null,
            "overflow_x": null,
            "overflow_y": null,
            "padding": null,
            "right": null,
            "top": null,
            "visibility": null,
            "width": null
          }
        },
        "954d0e870a31461d81acc24b1c08d17a": {
          "model_module": "@jupyter-widgets/base",
          "model_module_version": "1.2.0",
          "model_name": "LayoutModel",
          "state": {
            "_model_module": "@jupyter-widgets/base",
            "_model_module_version": "1.2.0",
            "_model_name": "LayoutModel",
            "_view_count": null,
            "_view_module": "@jupyter-widgets/base",
            "_view_module_version": "1.2.0",
            "_view_name": "LayoutView",
            "align_content": null,
            "align_items": null,
            "align_self": null,
            "border": null,
            "bottom": null,
            "display": null,
            "flex": null,
            "flex_flow": null,
            "grid_area": null,
            "grid_auto_columns": null,
            "grid_auto_flow": null,
            "grid_auto_rows": null,
            "grid_column": null,
            "grid_gap": null,
            "grid_row": null,
            "grid_template_areas": null,
            "grid_template_columns": null,
            "grid_template_rows": null,
            "height": null,
            "justify_content": null,
            "justify_items": null,
            "left": null,
            "margin": null,
            "max_height": null,
            "max_width": null,
            "min_height": null,
            "min_width": null,
            "object_fit": null,
            "object_position": null,
            "order": null,
            "overflow": null,
            "overflow_x": null,
            "overflow_y": null,
            "padding": null,
            "right": null,
            "top": null,
            "visibility": null,
            "width": null
          }
        },
        "964d7fd57f9a4353bc7802a9865c93d6": {
          "model_module": "@jupyter-widgets/base",
          "model_module_version": "1.2.0",
          "model_name": "LayoutModel",
          "state": {
            "_model_module": "@jupyter-widgets/base",
            "_model_module_version": "1.2.0",
            "_model_name": "LayoutModel",
            "_view_count": null,
            "_view_module": "@jupyter-widgets/base",
            "_view_module_version": "1.2.0",
            "_view_name": "LayoutView",
            "align_content": null,
            "align_items": null,
            "align_self": null,
            "border": null,
            "bottom": null,
            "display": null,
            "flex": null,
            "flex_flow": null,
            "grid_area": null,
            "grid_auto_columns": null,
            "grid_auto_flow": null,
            "grid_auto_rows": null,
            "grid_column": null,
            "grid_gap": null,
            "grid_row": null,
            "grid_template_areas": null,
            "grid_template_columns": null,
            "grid_template_rows": null,
            "height": null,
            "justify_content": null,
            "justify_items": null,
            "left": null,
            "margin": null,
            "max_height": null,
            "max_width": null,
            "min_height": null,
            "min_width": null,
            "object_fit": null,
            "object_position": null,
            "order": null,
            "overflow": null,
            "overflow_x": null,
            "overflow_y": null,
            "padding": null,
            "right": null,
            "top": null,
            "visibility": null,
            "width": null
          }
        },
        "9e4b7a912487416b918e8b659df936d4": {
          "model_module": "@jupyter-widgets/controls",
          "model_module_version": "1.5.0",
          "model_name": "HTMLModel",
          "state": {
            "_dom_classes": [],
            "_model_module": "@jupyter-widgets/controls",
            "_model_module_version": "1.5.0",
            "_model_name": "HTMLModel",
            "_view_count": null,
            "_view_module": "@jupyter-widgets/controls",
            "_view_module_version": "1.5.0",
            "_view_name": "HTMLView",
            "description": "",
            "description_tooltip": null,
            "layout": "IPY_MODEL_8c0c97cb062d4127814af35e255ed058",
            "placeholder": "​",
            "style": "IPY_MODEL_571736b3ce1849998e6612cf8adf21b7",
            "value": "100%"
          }
        },
        "9e5081fcf6e44e95bc2963d25b52cd1a": {
          "model_module": "@jupyter-widgets/controls",
          "model_module_version": "1.5.0",
          "model_name": "HTMLModel",
          "state": {
            "_dom_classes": [],
            "_model_module": "@jupyter-widgets/controls",
            "_model_module_version": "1.5.0",
            "_model_name": "HTMLModel",
            "_view_count": null,
            "_view_module": "@jupyter-widgets/controls",
            "_view_module_version": "1.5.0",
            "_view_name": "HTMLView",
            "description": "",
            "description_tooltip": null,
            "layout": "IPY_MODEL_e1e502d411a54033bd01dec7a9961cf4",
            "placeholder": "​",
            "style": "IPY_MODEL_fdc4bb05bd7944dda0cc91d1a44c93a4",
            "value": "100%"
          }
        },
        "b0216d2285814d25a384aa3075b92a9e": {
          "model_module": "@jupyter-widgets/base",
          "model_module_version": "1.2.0",
          "model_name": "LayoutModel",
          "state": {
            "_model_module": "@jupyter-widgets/base",
            "_model_module_version": "1.2.0",
            "_model_name": "LayoutModel",
            "_view_count": null,
            "_view_module": "@jupyter-widgets/base",
            "_view_module_version": "1.2.0",
            "_view_name": "LayoutView",
            "align_content": null,
            "align_items": null,
            "align_self": null,
            "border": null,
            "bottom": null,
            "display": null,
            "flex": null,
            "flex_flow": null,
            "grid_area": null,
            "grid_auto_columns": null,
            "grid_auto_flow": null,
            "grid_auto_rows": null,
            "grid_column": null,
            "grid_gap": null,
            "grid_row": null,
            "grid_template_areas": null,
            "grid_template_columns": null,
            "grid_template_rows": null,
            "height": null,
            "justify_content": null,
            "justify_items": null,
            "left": null,
            "margin": null,
            "max_height": null,
            "max_width": null,
            "min_height": null,
            "min_width": null,
            "object_fit": null,
            "object_position": null,
            "order": null,
            "overflow": null,
            "overflow_x": null,
            "overflow_y": null,
            "padding": null,
            "right": null,
            "top": null,
            "visibility": null,
            "width": null
          }
        },
        "ba729bfc81bc4e64b3ff463c77507da4": {
          "model_module": "@jupyter-widgets/controls",
          "model_module_version": "1.5.0",
          "model_name": "FloatProgressModel",
          "state": {
            "_dom_classes": [],
            "_model_module": "@jupyter-widgets/controls",
            "_model_module_version": "1.5.0",
            "_model_name": "FloatProgressModel",
            "_view_count": null,
            "_view_module": "@jupyter-widgets/controls",
            "_view_module_version": "1.5.0",
            "_view_name": "ProgressView",
            "bar_style": "success",
            "description": "",
            "description_tooltip": null,
            "layout": "IPY_MODEL_dfad079ca04b42c7b5f005e014fdd9b7",
            "max": 4542,
            "min": 0,
            "orientation": "horizontal",
            "style": "IPY_MODEL_4c3207891a244e6492319ae3f47b3285",
            "value": 4542
          }
        },
        "befa09b613924b51a6fa28537954502f": {
          "model_module": "@jupyter-widgets/controls",
          "model_module_version": "1.5.0",
          "model_name": "DescriptionStyleModel",
          "state": {
            "_model_module": "@jupyter-widgets/controls",
            "_model_module_version": "1.5.0",
            "_model_name": "DescriptionStyleModel",
            "_view_count": null,
            "_view_module": "@jupyter-widgets/base",
            "_view_module_version": "1.2.0",
            "_view_name": "StyleView",
            "description_width": ""
          }
        },
        "bf25adb82ea54b67afe26b5ecc5bc0dd": {
          "model_module": "@jupyter-widgets/controls",
          "model_module_version": "1.5.0",
          "model_name": "HBoxModel",
          "state": {
            "_dom_classes": [],
            "_model_module": "@jupyter-widgets/controls",
            "_model_module_version": "1.5.0",
            "_model_name": "HBoxModel",
            "_view_count": null,
            "_view_module": "@jupyter-widgets/controls",
            "_view_module_version": "1.5.0",
            "_view_name": "HBoxView",
            "box_style": "",
            "children": [
              "IPY_MODEL_9e5081fcf6e44e95bc2963d25b52cd1a",
              "IPY_MODEL_7a1d0aca506343638ee5361be3f62d99",
              "IPY_MODEL_ef1b36be0f654accad71797186043cf4"
            ],
            "layout": "IPY_MODEL_964d7fd57f9a4353bc7802a9865c93d6"
          }
        },
        "c1369267e55b4969af871be9cc0d4f6f": {
          "model_module": "@jupyter-widgets/controls",
          "model_module_version": "1.5.0",
          "model_name": "HTMLModel",
          "state": {
            "_dom_classes": [],
            "_model_module": "@jupyter-widgets/controls",
            "_model_module_version": "1.5.0",
            "_model_name": "HTMLModel",
            "_view_count": null,
            "_view_module": "@jupyter-widgets/controls",
            "_view_module_version": "1.5.0",
            "_view_name": "HTMLView",
            "description": "",
            "description_tooltip": null,
            "layout": "IPY_MODEL_105696d136034243ad58f9c9d05570aa",
            "placeholder": "​",
            "style": "IPY_MODEL_057113ef050f4defbb5752f8d66eaebb",
            "value": " 9912422/9912422 [00:00&lt;00:00, 143488218.27it/s]"
          }
        },
        "c3563e566ab34e31a68dccfc3760d7b8": {
          "model_module": "@jupyter-widgets/controls",
          "model_module_version": "1.5.0",
          "model_name": "ProgressStyleModel",
          "state": {
            "_model_module": "@jupyter-widgets/controls",
            "_model_module_version": "1.5.0",
            "_model_name": "ProgressStyleModel",
            "_view_count": null,
            "_view_module": "@jupyter-widgets/base",
            "_view_module_version": "1.2.0",
            "_view_name": "StyleView",
            "bar_color": null,
            "description_width": ""
          }
        },
        "c408b22ecd984151ae5963d13e09a227": {
          "model_module": "@jupyter-widgets/base",
          "model_module_version": "1.2.0",
          "model_name": "LayoutModel",
          "state": {
            "_model_module": "@jupyter-widgets/base",
            "_model_module_version": "1.2.0",
            "_model_name": "LayoutModel",
            "_view_count": null,
            "_view_module": "@jupyter-widgets/base",
            "_view_module_version": "1.2.0",
            "_view_name": "LayoutView",
            "align_content": null,
            "align_items": null,
            "align_self": null,
            "border": null,
            "bottom": null,
            "display": null,
            "flex": null,
            "flex_flow": null,
            "grid_area": null,
            "grid_auto_columns": null,
            "grid_auto_flow": null,
            "grid_auto_rows": null,
            "grid_column": null,
            "grid_gap": null,
            "grid_row": null,
            "grid_template_areas": null,
            "grid_template_columns": null,
            "grid_template_rows": null,
            "height": null,
            "justify_content": null,
            "justify_items": null,
            "left": null,
            "margin": null,
            "max_height": null,
            "max_width": null,
            "min_height": null,
            "min_width": null,
            "object_fit": null,
            "object_position": null,
            "order": null,
            "overflow": null,
            "overflow_x": null,
            "overflow_y": null,
            "padding": null,
            "right": null,
            "top": null,
            "visibility": null,
            "width": null
          }
        },
        "c73174d798a24e2ead07d2fa81e1f636": {
          "model_module": "@jupyter-widgets/controls",
          "model_module_version": "1.5.0",
          "model_name": "ProgressStyleModel",
          "state": {
            "_model_module": "@jupyter-widgets/controls",
            "_model_module_version": "1.5.0",
            "_model_name": "ProgressStyleModel",
            "_view_count": null,
            "_view_module": "@jupyter-widgets/base",
            "_view_module_version": "1.2.0",
            "_view_name": "StyleView",
            "bar_color": null,
            "description_width": ""
          }
        },
        "dccdbfa247984559b244db981d6f5975": {
          "model_module": "@jupyter-widgets/controls",
          "model_module_version": "1.5.0",
          "model_name": "DescriptionStyleModel",
          "state": {
            "_model_module": "@jupyter-widgets/controls",
            "_model_module_version": "1.5.0",
            "_model_name": "DescriptionStyleModel",
            "_view_count": null,
            "_view_module": "@jupyter-widgets/base",
            "_view_module_version": "1.2.0",
            "_view_name": "StyleView",
            "description_width": ""
          }
        },
        "dfad079ca04b42c7b5f005e014fdd9b7": {
          "model_module": "@jupyter-widgets/base",
          "model_module_version": "1.2.0",
          "model_name": "LayoutModel",
          "state": {
            "_model_module": "@jupyter-widgets/base",
            "_model_module_version": "1.2.0",
            "_model_name": "LayoutModel",
            "_view_count": null,
            "_view_module": "@jupyter-widgets/base",
            "_view_module_version": "1.2.0",
            "_view_name": "LayoutView",
            "align_content": null,
            "align_items": null,
            "align_self": null,
            "border": null,
            "bottom": null,
            "display": null,
            "flex": null,
            "flex_flow": null,
            "grid_area": null,
            "grid_auto_columns": null,
            "grid_auto_flow": null,
            "grid_auto_rows": null,
            "grid_column": null,
            "grid_gap": null,
            "grid_row": null,
            "grid_template_areas": null,
            "grid_template_columns": null,
            "grid_template_rows": null,
            "height": null,
            "justify_content": null,
            "justify_items": null,
            "left": null,
            "margin": null,
            "max_height": null,
            "max_width": null,
            "min_height": null,
            "min_width": null,
            "object_fit": null,
            "object_position": null,
            "order": null,
            "overflow": null,
            "overflow_x": null,
            "overflow_y": null,
            "padding": null,
            "right": null,
            "top": null,
            "visibility": null,
            "width": null
          }
        },
        "e1e502d411a54033bd01dec7a9961cf4": {
          "model_module": "@jupyter-widgets/base",
          "model_module_version": "1.2.0",
          "model_name": "LayoutModel",
          "state": {
            "_model_module": "@jupyter-widgets/base",
            "_model_module_version": "1.2.0",
            "_model_name": "LayoutModel",
            "_view_count": null,
            "_view_module": "@jupyter-widgets/base",
            "_view_module_version": "1.2.0",
            "_view_name": "LayoutView",
            "align_content": null,
            "align_items": null,
            "align_self": null,
            "border": null,
            "bottom": null,
            "display": null,
            "flex": null,
            "flex_flow": null,
            "grid_area": null,
            "grid_auto_columns": null,
            "grid_auto_flow": null,
            "grid_auto_rows": null,
            "grid_column": null,
            "grid_gap": null,
            "grid_row": null,
            "grid_template_areas": null,
            "grid_template_columns": null,
            "grid_template_rows": null,
            "height": null,
            "justify_content": null,
            "justify_items": null,
            "left": null,
            "margin": null,
            "max_height": null,
            "max_width": null,
            "min_height": null,
            "min_width": null,
            "object_fit": null,
            "object_position": null,
            "order": null,
            "overflow": null,
            "overflow_x": null,
            "overflow_y": null,
            "padding": null,
            "right": null,
            "top": null,
            "visibility": null,
            "width": null
          }
        },
        "e201ea0593874bfd9951679a06d19e41": {
          "model_module": "@jupyter-widgets/controls",
          "model_module_version": "1.5.0",
          "model_name": "DescriptionStyleModel",
          "state": {
            "_model_module": "@jupyter-widgets/controls",
            "_model_module_version": "1.5.0",
            "_model_name": "DescriptionStyleModel",
            "_view_count": null,
            "_view_module": "@jupyter-widgets/base",
            "_view_module_version": "1.2.0",
            "_view_name": "StyleView",
            "description_width": ""
          }
        },
        "e2601786f9fc42dead127da726667fae": {
          "model_module": "@jupyter-widgets/controls",
          "model_module_version": "1.5.0",
          "model_name": "HTMLModel",
          "state": {
            "_dom_classes": [],
            "_model_module": "@jupyter-widgets/controls",
            "_model_module_version": "1.5.0",
            "_model_name": "HTMLModel",
            "_view_count": null,
            "_view_module": "@jupyter-widgets/controls",
            "_view_module_version": "1.5.0",
            "_view_name": "HTMLView",
            "description": "",
            "description_tooltip": null,
            "layout": "IPY_MODEL_b0216d2285814d25a384aa3075b92a9e",
            "placeholder": "​",
            "style": "IPY_MODEL_befa09b613924b51a6fa28537954502f",
            "value": "100%"
          }
        },
        "e942f0a988a245fa9b21fae6983d7c38": {
          "model_module": "@jupyter-widgets/controls",
          "model_module_version": "1.5.0",
          "model_name": "ProgressStyleModel",
          "state": {
            "_model_module": "@jupyter-widgets/controls",
            "_model_module_version": "1.5.0",
            "_model_name": "ProgressStyleModel",
            "_view_count": null,
            "_view_module": "@jupyter-widgets/base",
            "_view_module_version": "1.2.0",
            "_view_name": "StyleView",
            "bar_color": null,
            "description_width": ""
          }
        },
        "ec35abbff866470a8a776b922f058110": {
          "model_module": "@jupyter-widgets/controls",
          "model_module_version": "1.5.0",
          "model_name": "FloatProgressModel",
          "state": {
            "_dom_classes": [],
            "_model_module": "@jupyter-widgets/controls",
            "_model_module_version": "1.5.0",
            "_model_name": "FloatProgressModel",
            "_view_count": null,
            "_view_module": "@jupyter-widgets/controls",
            "_view_module_version": "1.5.0",
            "_view_name": "ProgressView",
            "bar_style": "success",
            "description": "",
            "description_tooltip": null,
            "layout": "IPY_MODEL_954d0e870a31461d81acc24b1c08d17a",
            "max": 9912422,
            "min": 0,
            "orientation": "horizontal",
            "style": "IPY_MODEL_e942f0a988a245fa9b21fae6983d7c38",
            "value": 9912422
          }
        },
        "ee32bc62d7b64124a1e98748b34bab7f": {
          "model_module": "@jupyter-widgets/controls",
          "model_module_version": "1.5.0",
          "model_name": "DescriptionStyleModel",
          "state": {
            "_model_module": "@jupyter-widgets/controls",
            "_model_module_version": "1.5.0",
            "_model_name": "DescriptionStyleModel",
            "_view_count": null,
            "_view_module": "@jupyter-widgets/base",
            "_view_module_version": "1.2.0",
            "_view_name": "StyleView",
            "description_width": ""
          }
        },
        "ef1b36be0f654accad71797186043cf4": {
          "model_module": "@jupyter-widgets/controls",
          "model_module_version": "1.5.0",
          "model_name": "HTMLModel",
          "state": {
            "_dom_classes": [],
            "_model_module": "@jupyter-widgets/controls",
            "_model_module_version": "1.5.0",
            "_model_name": "HTMLModel",
            "_view_count": null,
            "_view_module": "@jupyter-widgets/controls",
            "_view_module_version": "1.5.0",
            "_view_name": "HTMLView",
            "description": "",
            "description_tooltip": null,
            "layout": "IPY_MODEL_6fa38882cd794aaf9455a82f938a079b",
            "placeholder": "​",
            "style": "IPY_MODEL_ee32bc62d7b64124a1e98748b34bab7f",
            "value": " 1648877/1648877 [00:00&lt;00:00, 52920720.18it/s]"
          }
        },
        "f8d9cbe445f746bdb22c96ad9b441118": {
          "model_module": "@jupyter-widgets/base",
          "model_module_version": "1.2.0",
          "model_name": "LayoutModel",
          "state": {
            "_model_module": "@jupyter-widgets/base",
            "_model_module_version": "1.2.0",
            "_model_name": "LayoutModel",
            "_view_count": null,
            "_view_module": "@jupyter-widgets/base",
            "_view_module_version": "1.2.0",
            "_view_name": "LayoutView",
            "align_content": null,
            "align_items": null,
            "align_self": null,
            "border": null,
            "bottom": null,
            "display": null,
            "flex": null,
            "flex_flow": null,
            "grid_area": null,
            "grid_auto_columns": null,
            "grid_auto_flow": null,
            "grid_auto_rows": null,
            "grid_column": null,
            "grid_gap": null,
            "grid_row": null,
            "grid_template_areas": null,
            "grid_template_columns": null,
            "grid_template_rows": null,
            "height": null,
            "justify_content": null,
            "justify_items": null,
            "left": null,
            "margin": null,
            "max_height": null,
            "max_width": null,
            "min_height": null,
            "min_width": null,
            "object_fit": null,
            "object_position": null,
            "order": null,
            "overflow": null,
            "overflow_x": null,
            "overflow_y": null,
            "padding": null,
            "right": null,
            "top": null,
            "visibility": null,
            "width": null
          }
        },
        "fd9f7f5f65ae41829a19873af468b360": {
          "model_module": "@jupyter-widgets/base",
          "model_module_version": "1.2.0",
          "model_name": "LayoutModel",
          "state": {
            "_model_module": "@jupyter-widgets/base",
            "_model_module_version": "1.2.0",
            "_model_name": "LayoutModel",
            "_view_count": null,
            "_view_module": "@jupyter-widgets/base",
            "_view_module_version": "1.2.0",
            "_view_name": "LayoutView",
            "align_content": null,
            "align_items": null,
            "align_self": null,
            "border": null,
            "bottom": null,
            "display": null,
            "flex": null,
            "flex_flow": null,
            "grid_area": null,
            "grid_auto_columns": null,
            "grid_auto_flow": null,
            "grid_auto_rows": null,
            "grid_column": null,
            "grid_gap": null,
            "grid_row": null,
            "grid_template_areas": null,
            "grid_template_columns": null,
            "grid_template_rows": null,
            "height": null,
            "justify_content": null,
            "justify_items": null,
            "left": null,
            "margin": null,
            "max_height": null,
            "max_width": null,
            "min_height": null,
            "min_width": null,
            "object_fit": null,
            "object_position": null,
            "order": null,
            "overflow": null,
            "overflow_x": null,
            "overflow_y": null,
            "padding": null,
            "right": null,
            "top": null,
            "visibility": null,
            "width": null
          }
        },
        "fdc4bb05bd7944dda0cc91d1a44c93a4": {
          "model_module": "@jupyter-widgets/controls",
          "model_module_version": "1.5.0",
          "model_name": "DescriptionStyleModel",
          "state": {
            "_model_module": "@jupyter-widgets/controls",
            "_model_module_version": "1.5.0",
            "_model_name": "DescriptionStyleModel",
            "_view_count": null,
            "_view_module": "@jupyter-widgets/base",
            "_view_module_version": "1.2.0",
            "_view_name": "StyleView",
            "description_width": ""
          }
        },
        "fe63d140bff547ef93864bd712634e69": {
          "model_module": "@jupyter-widgets/base",
          "model_module_version": "1.2.0",
          "model_name": "LayoutModel",
          "state": {
            "_model_module": "@jupyter-widgets/base",
            "_model_module_version": "1.2.0",
            "_model_name": "LayoutModel",
            "_view_count": null,
            "_view_module": "@jupyter-widgets/base",
            "_view_module_version": "1.2.0",
            "_view_name": "LayoutView",
            "align_content": null,
            "align_items": null,
            "align_self": null,
            "border": null,
            "bottom": null,
            "display": null,
            "flex": null,
            "flex_flow": null,
            "grid_area": null,
            "grid_auto_columns": null,
            "grid_auto_flow": null,
            "grid_auto_rows": null,
            "grid_column": null,
            "grid_gap": null,
            "grid_row": null,
            "grid_template_areas": null,
            "grid_template_columns": null,
            "grid_template_rows": null,
            "height": null,
            "justify_content": null,
            "justify_items": null,
            "left": null,
            "margin": null,
            "max_height": null,
            "max_width": null,
            "min_height": null,
            "min_width": null,
            "object_fit": null,
            "object_position": null,
            "order": null,
            "overflow": null,
            "overflow_x": null,
            "overflow_y": null,
            "padding": null,
            "right": null,
            "top": null,
            "visibility": null,
            "width": null
          }
        }
      }
    }
  },
  "nbformat": 4,
  "nbformat_minor": 0
}
